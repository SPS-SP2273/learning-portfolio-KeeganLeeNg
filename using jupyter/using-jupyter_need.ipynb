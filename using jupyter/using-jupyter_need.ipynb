{
 "cells": [
  {
   "cell_type": "code",
   "execution_count": 3,
   "id": "d16395da",
   "metadata": {},
   "outputs": [
    {
     "name": "stdout",
     "output_type": "stream",
     "text": [
      "Hello World!\n"
     ]
    }
   ],
   "source": [
    "print('Hello World!')"
   ]
  },
  {
   "cell_type": "markdown",
   "id": "b767356b",
   "metadata": {},
   "source": [
    "The ships hung in the sky in much the same way that bricks don’t."
   ]
  },
  {
   "cell_type": "markdown",
   "id": "8f18acd6",
   "metadata": {},
   "source": [
    "The ships *hung in the sky* in much the same way that **bricks don't.**<sup>1</sup><sub>QUOTE</sub>"
   ]
  },
  {
   "cell_type": "markdown",
   "id": "7d8d98e4",
   "metadata": {},
   "source": [
    "# The largest heading\n",
    "## The second-largest heading \n",
    "### The Third-largest heading \n",
    "###### The smallest heading"
   ]
  },
  {
   "cell_type": "markdown",
   "id": "e1311ffc",
   "metadata": {},
   "source": [
    "```python \n",
    "print('Hello World!)\n",
    "```"
   ]
  },
  {
   "cell_type": "markdown",
   "id": "fdd9d531",
   "metadata": {},
   "source": [
    "[SP2273 Website](http://sps.nus.edu.sg/sp2273)"
   ]
  },
  {
   "cell_type": "markdown",
   "id": "388fbae0",
   "metadata": {},
   "source": [
    "![](https://nus.edu.sg/images/default-source/base/logo.png)\n"
   ]
  },
  {
   "cell_type": "markdown",
   "id": "367f7cf6",
   "metadata": {},
   "source": [
    "|A |B | C|\n",
    "|:--- | :--: | ---:|\n",
    "|a1 | b1 | c1|"
   ]
  },
  {
   "cell_type": "markdown",
   "id": "d8f0abbd",
   "metadata": {},
   "source": [
    "1. Master Yoda \n",
    "    1. was a jedi\n",
    "    1. was a bit green \n",
    "    1. used to be a baby \n",
    "    - ugly \n",
    "1. Luke Skywalker \n",
    "    1. was a jedi \n",
    "    1. anakin's son. \n",
    "    - noOoOo\n",
    "1. Anakin Skywalker \n",
    "    1. was a jedi thne became a baddie \n",
    "    1. Is famous for saying 'Luke, I am your father'\n",
    "    - also for masks and breathing \n",
    "\n",
    "- Master Yoda\n",
    "- Luke Skywalker \n",
    "- Anakin Skywalker "
   ]
  },
  {
   "cell_type": "markdown",
   "id": "12cab0f9",
   "metadata": {},
   "source": [
    "$$\n",
    "x = \\dfrac{-b \\pm \\sqrt{b^2-4ac}}{2a}\n",
    "$$\n"
   ]
  },
  {
   "cell_type": "markdown",
   "id": "cecad2f6",
   "metadata": {},
   "source": [
    "$\\dfrac{y}{x}$\n",
    "$x_{a}$\n",
    "$x^{(y+z)}$\n",
    "$\\sqrt{A+B+C}$\n",
    "$\\int_{x=1}^{x=\\infty}x_n$\n",
    "a \\ne b "
   ]
  },
  {
   "cell_type": "markdown",
   "id": "3321eadb",
   "metadata": {},
   "source": [
    "$\\alpha, \\beta, \\gamma, \\pi, \\lambda$"
   ]
  },
  {
   "cell_type": "markdown",
   "id": "3635b672",
   "metadata": {},
   "source": [
    "## Exercise 1: Put it in Markdown \n",
    "\n",
    "### Quadratic Equations \n",
    "\n",
    "![](https://upload.wikimedia.org/wikipedia/commons/f/f8/Polynomialdeg2.svg)\n",
    "\n",
    "(*Image from the [Wikipedia page on Quadratic equations](https://en.wikipedia.org/wiki/Quadratic_equation)*)\n",
    "\n",
    "### Introduction \n",
    "\n",
    "The general form of a quadratic equation is: \n",
    "\n",
    "$$\n",
    "{ax^{2}+ bx + c} = 0\n",
    "$$\n",
    "\n",
    "**Solutions** Provided $a \\ne {0}$ , we can use an elementary algebraic method called [Completing the Sqaure](https://en.wikipedia.org/wiki/Completing_the_square) to show that a quadratic equation has the following solution: \n",
    "\n",
    "$$\n",
    "x = \\dfrac{-b \\pm \\sqrt{b^2-4ac}}{2a}\n",
    "$$\n",
    "\n",
    "##### Discriminant \n",
    "\n",
    "The quantity $\\delta = b^{2} - 4ac$ is called the **discriminant** of the equation and decides the nature of its solutions. The table below shows the various possibilities. \n",
    "\n",
    "|Discriminant                 | Roots                                | \n",
    "| :---                        |  --:                                 |\n",
    "|$$\\triangle = b^{2} - 4ac > 0$$ | A single solution of ${-b}/{(2a)}$|\n",
    "|$$\\triangle = b^{2} - 4ac > 0$$ | Two distinct solutions               |\n",
    "|$$\\triangle = b^{2} - 4ac < 0$$| No real solutions; both are complex. | \n",
    "\n",
    "\n",
    "\n"
   ]
  },
  {
   "cell_type": "markdown",
   "id": "7bf7d782",
   "metadata": {},
   "source": [
    "## Exercise 2: In your own words \n",
    "\n",
    "Use a Markdown cell to answer the following. \n",
    "\n",
    "##### Q1. What is a **repository**?\n",
    "\n",
    "Repositories contain project files and revision histories shareable with others to collaborate, manage and discuss things.\n",
    "\n",
    "##### Q2. Git keeps track of _____ in the files in our repository. \n",
    "\n",
    "Changes\n",
    "\n",
    "##### Q3. What is a **commit**? \n",
    "\n",
    "A commit is an individual change to a file which Git tracks so that you know what or who has changed.\n",
    "\n",
    "##### Q4. What is a **push**? \n",
    "\n",
    "Pushing allows you to transfer individual changes (commits) from a local repository to the cloud.\n",
    "\n",
    "##### Q5. What is the difference between **GitHub** and **Github Desktop**?\n",
    "\n",
    "Github Desktop is an app that uses GUI to improve user experience on the cloud repository platform – Github. \n",
    "\n",
    "##### Q6. Is there an 'opposite' to a **push**?\n",
    "\n",
    "Yes."
   ]
  },
  {
   "cell_type": "code",
   "execution_count": null,
   "id": "d5b02c4e",
   "metadata": {},
   "outputs": [],
   "source": []
  }
 ],
 "metadata": {
  "kernelspec": {
   "display_name": "Python 3 (ipykernel)",
   "language": "python",
   "name": "python3"
  },
  "language_info": {
   "codemirror_mode": {
    "name": "ipython",
    "version": 3
   },
   "file_extension": ".py",
   "mimetype": "text/x-python",
   "name": "python",
   "nbconvert_exporter": "python",
   "pygments_lexer": "ipython3",
   "version": "3.9.13"
  }
 },
 "nbformat": 4,
 "nbformat_minor": 5
}
