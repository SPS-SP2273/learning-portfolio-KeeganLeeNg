{
 "cells": [
  {
   "cell_type": "markdown",
   "id": "123456",
   "metadata": {},
   "source": [
    "<div style=\"text-align:left;font-size:2em\"><span style=\"font-weight:bolder;font-size:1.25em\">SP2273 | Learning Portfolio</span><br><br><span style=\"font-weight:bold;color:darkred\">Just Exercises (I)</span></div>"
   ]
  },
  {
   "cell_type": "markdown",
   "id": "9e843dca",
   "metadata": {},
   "source": [
    "## Exercise 1 :  F-strings to the rescue"
   ]
  },
  {
   "cell_type": "code",
   "execution_count": 80,
   "id": "2e9b5745",
   "metadata": {
    "code_folding": []
   },
   "outputs": [
    {
     "name": "stdout",
     "output_type": "stream",
     "text": [
      "00000\n",
      "00001\n",
      "00002\n",
      "00003\n",
      "00004\n",
      "00005\n",
      "00006\n",
      "00007\n",
      "00008\n",
      "00009\n",
      "00010\n"
     ]
    }
   ],
   "source": [
    "for number in range(11):  \n",
    "    print(f\"{number:05d}\")\n",
    "    "
   ]
  },
  {
   "cell_type": "code",
   "execution_count": 1,
   "id": "8c81a403",
   "metadata": {},
   "outputs": [
    {
     "name": "stdout",
     "output_type": "stream",
     "text": [
      "001          +\n",
      "002         ++\n",
      "003        +++\n",
      "004       ++++\n",
      "005      +++++\n",
      "006     ++++++\n",
      "007    +++++++\n",
      "008   ++++++++\n",
      "009  +++++++++\n",
      "010 ++++++++++\n"
     ]
    }
   ],
   "source": [
    "for i in range(1,11):\n",
    "    print(f\"{i:03d}\"+f'{(11-i)*\" \"}'+f\"{i*'+'}\")"
   ]
  },
  {
   "cell_type": "code",
   "execution_count": 10,
   "id": "8bf0e15b",
   "metadata": {},
   "outputs": [
    {
     "name": "stdout",
     "output_type": "stream",
     "text": [
      "001-+++++++++\n",
      "002--++++++++\n",
      "003---+++++++\n",
      "004----++++++\n",
      "005-----+++++\n",
      "006------++++\n",
      "007-------+++\n",
      "008--------++\n",
      "009---------+\n",
      "010----------\n"
     ]
    }
   ],
   "source": [
    "for i in range(1,11):\n",
    "    print(f\"{i:03d}\"+f'{(i)*\"-\"}'+f\"{(10-i)*'+'}\")"
   ]
  },
  {
   "cell_type": "code",
   "execution_count": 84,
   "id": "ac5b5217",
   "metadata": {},
   "outputs": [
    {
     "name": "stdout",
     "output_type": "stream",
     "text": [
      "['bruce_exploits.txt', 'bruce_enemies.txt', 'bruce_friends.txt', 'natasha_exploits.txt', 'natasha_enemies.txt', 'natasha_friends.txt', 'tony_exploits.txt', 'tony_enemies.txt', 'tony_friends.txt']\n"
     ]
    }
   ],
   "source": [
    "py_super_names = [\"bruce\",\"natasha\",\"tony\"]\n",
    "py_stuff = [\"exploits\", \"enemies\",\"friends\"]\n",
    "answer = []\n",
    "\n",
    "for i in py_super_names:\n",
    "    for j in py_stuff:\n",
    "        answer.append(f'{i}_{j}.txt')\n",
    "print(answer)"
   ]
  },
  {
   "cell_type": "code",
   "execution_count": 112,
   "id": "26d36d83",
   "metadata": {},
   "outputs": [
    {
     "name": "stdout",
     "output_type": "stream",
     "text": [
      "['data_sg_exp-01_trial-001', 'data_sg_exp-01_trial-002', 'data_sg_exp-01_trial-003', 'data_sg_exp-01_trial-004', 'data_sg_exp-01_trial-005', 'data_sg_exp-01_trial-006', 'data_sg_exp-01_trial-007', 'data_sg_exp-01_trial-008', 'data_sg_exp-01_trial-009', 'data_sg_exp-01_trial-0010', 'data_sg_exp-01_trial-0011', 'data_sg_exp-01_trial-0012', 'data_sg_exp-01_trial-0013', 'data_sg_exp-01_trial-0014', 'data_sg_exp-01_trial-0015', 'data_sg_exp-01_trial-0016', 'data_sg_exp-01_trial-0017', 'data_sg_exp-01_trial-0018', 'data_sg_exp-01_trial-0019', 'data_sg_exp-01_trial-0020', 'data_sg_exp-01_trial-0021', 'data_sg_exp-01_trial-0022', 'data_sg_exp-01_trial-0023', 'data_sg_exp-01_trial-0024', 'data_sg_exp-01_trial-0025', 'data_sg_exp-01_trial-0026', 'data_sg_exp-01_trial-0027', 'data_sg_exp-01_trial-0028', 'data_sg_exp-01_trial-0029', 'data_sg_exp-01_trial-0030', 'data_sg_exp-01_trial-0031', 'data_sg_exp-01_trial-0032', 'data_sg_exp-01_trial-0033', 'data_sg_exp-01_trial-0034', 'data_sg_exp-01_trial-0035', 'data_sg_exp-01_trial-0036', 'data_sg_exp-01_trial-0037', 'data_sg_exp-01_trial-0038', 'data_sg_exp-01_trial-0039', 'data_sg_exp-01_trial-0040', 'data_sg_exp-01_trial-0041', 'data_sg_exp-01_trial-0042', 'data_sg_exp-01_trial-0043', 'data_sg_exp-01_trial-0044', 'data_sg_exp-01_trial-0045', 'data_sg_exp-01_trial-0046', 'data_sg_exp-01_trial-0047', 'data_sg_exp-01_trial-0048', 'data_sg_exp-01_trial-0049', 'data_sg_exp-01_trial-0050', 'data_sg_exp-02_trial-001', 'data_sg_exp-02_trial-002', 'data_sg_exp-02_trial-003', 'data_sg_exp-02_trial-004', 'data_sg_exp-02_trial-005', 'data_sg_exp-02_trial-006', 'data_sg_exp-02_trial-007', 'data_sg_exp-02_trial-008', 'data_sg_exp-02_trial-009', 'data_sg_exp-02_trial-0010', 'data_sg_exp-02_trial-0011', 'data_sg_exp-02_trial-0012', 'data_sg_exp-02_trial-0013', 'data_sg_exp-02_trial-0014', 'data_sg_exp-02_trial-0015', 'data_sg_exp-02_trial-0016', 'data_sg_exp-02_trial-0017', 'data_sg_exp-02_trial-0018', 'data_sg_exp-02_trial-0019', 'data_sg_exp-02_trial-0020', 'data_sg_exp-02_trial-0021', 'data_sg_exp-02_trial-0022', 'data_sg_exp-02_trial-0023', 'data_sg_exp-02_trial-0024', 'data_sg_exp-02_trial-0025', 'data_sg_exp-02_trial-0026', 'data_sg_exp-02_trial-0027', 'data_sg_exp-02_trial-0028', 'data_sg_exp-02_trial-0029', 'data_sg_exp-02_trial-0030', 'data_sg_exp-02_trial-0031', 'data_sg_exp-02_trial-0032', 'data_sg_exp-02_trial-0033', 'data_sg_exp-02_trial-0034', 'data_sg_exp-02_trial-0035', 'data_sg_exp-02_trial-0036', 'data_sg_exp-02_trial-0037', 'data_sg_exp-02_trial-0038', 'data_sg_exp-02_trial-0039', 'data_sg_exp-02_trial-0040', 'data_sg_exp-02_trial-0041', 'data_sg_exp-02_trial-0042', 'data_sg_exp-02_trial-0043', 'data_sg_exp-02_trial-0044', 'data_sg_exp-02_trial-0045', 'data_sg_exp-02_trial-0046', 'data_sg_exp-02_trial-0047', 'data_sg_exp-02_trial-0048', 'data_sg_exp-02_trial-0049', 'data_sg_exp-02_trial-0050', 'data_sg_exp-03_trial-001', 'data_sg_exp-03_trial-002', 'data_sg_exp-03_trial-003', 'data_sg_exp-03_trial-004', 'data_sg_exp-03_trial-005', 'data_sg_exp-03_trial-006', 'data_sg_exp-03_trial-007', 'data_sg_exp-03_trial-008', 'data_sg_exp-03_trial-009', 'data_sg_exp-03_trial-0010', 'data_sg_exp-03_trial-0011', 'data_sg_exp-03_trial-0012', 'data_sg_exp-03_trial-0013', 'data_sg_exp-03_trial-0014', 'data_sg_exp-03_trial-0015', 'data_sg_exp-03_trial-0016', 'data_sg_exp-03_trial-0017', 'data_sg_exp-03_trial-0018', 'data_sg_exp-03_trial-0019', 'data_sg_exp-03_trial-0020', 'data_sg_exp-03_trial-0021', 'data_sg_exp-03_trial-0022', 'data_sg_exp-03_trial-0023', 'data_sg_exp-03_trial-0024', 'data_sg_exp-03_trial-0025', 'data_sg_exp-03_trial-0026', 'data_sg_exp-03_trial-0027', 'data_sg_exp-03_trial-0028', 'data_sg_exp-03_trial-0029', 'data_sg_exp-03_trial-0030', 'data_sg_exp-03_trial-0031', 'data_sg_exp-03_trial-0032', 'data_sg_exp-03_trial-0033', 'data_sg_exp-03_trial-0034', 'data_sg_exp-03_trial-0035', 'data_sg_exp-03_trial-0036', 'data_sg_exp-03_trial-0037', 'data_sg_exp-03_trial-0038', 'data_sg_exp-03_trial-0039', 'data_sg_exp-03_trial-0040', 'data_sg_exp-03_trial-0041', 'data_sg_exp-03_trial-0042', 'data_sg_exp-03_trial-0043', 'data_sg_exp-03_trial-0044', 'data_sg_exp-03_trial-0045', 'data_sg_exp-03_trial-0046', 'data_sg_exp-03_trial-0047', 'data_sg_exp-03_trial-0048', 'data_sg_exp-03_trial-0049', 'data_sg_exp-03_trial-0050', 'data_gb_exp-01_trial-001', 'data_gb_exp-01_trial-002', 'data_gb_exp-01_trial-003', 'data_gb_exp-01_trial-004', 'data_gb_exp-01_trial-005', 'data_gb_exp-01_trial-006', 'data_gb_exp-01_trial-007', 'data_gb_exp-01_trial-008', 'data_gb_exp-01_trial-009', 'data_gb_exp-01_trial-0010', 'data_gb_exp-01_trial-0011', 'data_gb_exp-01_trial-0012', 'data_gb_exp-01_trial-0013', 'data_gb_exp-01_trial-0014', 'data_gb_exp-01_trial-0015', 'data_gb_exp-01_trial-0016', 'data_gb_exp-01_trial-0017', 'data_gb_exp-01_trial-0018', 'data_gb_exp-01_trial-0019', 'data_gb_exp-01_trial-0020', 'data_gb_exp-01_trial-0021', 'data_gb_exp-01_trial-0022', 'data_gb_exp-01_trial-0023', 'data_gb_exp-01_trial-0024', 'data_gb_exp-01_trial-0025', 'data_gb_exp-01_trial-0026', 'data_gb_exp-01_trial-0027', 'data_gb_exp-01_trial-0028', 'data_gb_exp-01_trial-0029', 'data_gb_exp-01_trial-0030', 'data_gb_exp-01_trial-0031', 'data_gb_exp-01_trial-0032', 'data_gb_exp-01_trial-0033', 'data_gb_exp-01_trial-0034', 'data_gb_exp-01_trial-0035', 'data_gb_exp-01_trial-0036', 'data_gb_exp-01_trial-0037', 'data_gb_exp-01_trial-0038', 'data_gb_exp-01_trial-0039', 'data_gb_exp-01_trial-0040', 'data_gb_exp-01_trial-0041', 'data_gb_exp-01_trial-0042', 'data_gb_exp-01_trial-0043', 'data_gb_exp-01_trial-0044', 'data_gb_exp-01_trial-0045', 'data_gb_exp-01_trial-0046', 'data_gb_exp-01_trial-0047', 'data_gb_exp-01_trial-0048', 'data_gb_exp-01_trial-0049', 'data_gb_exp-01_trial-0050', 'data_gb_exp-02_trial-001', 'data_gb_exp-02_trial-002', 'data_gb_exp-02_trial-003', 'data_gb_exp-02_trial-004', 'data_gb_exp-02_trial-005', 'data_gb_exp-02_trial-006', 'data_gb_exp-02_trial-007', 'data_gb_exp-02_trial-008', 'data_gb_exp-02_trial-009', 'data_gb_exp-02_trial-0010', 'data_gb_exp-02_trial-0011', 'data_gb_exp-02_trial-0012', 'data_gb_exp-02_trial-0013', 'data_gb_exp-02_trial-0014', 'data_gb_exp-02_trial-0015', 'data_gb_exp-02_trial-0016', 'data_gb_exp-02_trial-0017', 'data_gb_exp-02_trial-0018', 'data_gb_exp-02_trial-0019', 'data_gb_exp-02_trial-0020', 'data_gb_exp-02_trial-0021', 'data_gb_exp-02_trial-0022', 'data_gb_exp-02_trial-0023', 'data_gb_exp-02_trial-0024', 'data_gb_exp-02_trial-0025', 'data_gb_exp-02_trial-0026', 'data_gb_exp-02_trial-0027', 'data_gb_exp-02_trial-0028', 'data_gb_exp-02_trial-0029', 'data_gb_exp-02_trial-0030', 'data_gb_exp-02_trial-0031', 'data_gb_exp-02_trial-0032', 'data_gb_exp-02_trial-0033', 'data_gb_exp-02_trial-0034', 'data_gb_exp-02_trial-0035', 'data_gb_exp-02_trial-0036', 'data_gb_exp-02_trial-0037', 'data_gb_exp-02_trial-0038', 'data_gb_exp-02_trial-0039', 'data_gb_exp-02_trial-0040', 'data_gb_exp-02_trial-0041', 'data_gb_exp-02_trial-0042', 'data_gb_exp-02_trial-0043', 'data_gb_exp-02_trial-0044', 'data_gb_exp-02_trial-0045', 'data_gb_exp-02_trial-0046', 'data_gb_exp-02_trial-0047', 'data_gb_exp-02_trial-0048', 'data_gb_exp-02_trial-0049', 'data_gb_exp-02_trial-0050', 'data_gb_exp-03_trial-001', 'data_gb_exp-03_trial-002', 'data_gb_exp-03_trial-003', 'data_gb_exp-03_trial-004', 'data_gb_exp-03_trial-005', 'data_gb_exp-03_trial-006', 'data_gb_exp-03_trial-007', 'data_gb_exp-03_trial-008', 'data_gb_exp-03_trial-009', 'data_gb_exp-03_trial-0010', 'data_gb_exp-03_trial-0011', 'data_gb_exp-03_trial-0012', 'data_gb_exp-03_trial-0013', 'data_gb_exp-03_trial-0014', 'data_gb_exp-03_trial-0015', 'data_gb_exp-03_trial-0016', 'data_gb_exp-03_trial-0017', 'data_gb_exp-03_trial-0018', 'data_gb_exp-03_trial-0019', 'data_gb_exp-03_trial-0020', 'data_gb_exp-03_trial-0021', 'data_gb_exp-03_trial-0022', 'data_gb_exp-03_trial-0023', 'data_gb_exp-03_trial-0024', 'data_gb_exp-03_trial-0025', 'data_gb_exp-03_trial-0026', 'data_gb_exp-03_trial-0027', 'data_gb_exp-03_trial-0028', 'data_gb_exp-03_trial-0029', 'data_gb_exp-03_trial-0030', 'data_gb_exp-03_trial-0031', 'data_gb_exp-03_trial-0032', 'data_gb_exp-03_trial-0033', 'data_gb_exp-03_trial-0034', 'data_gb_exp-03_trial-0035', 'data_gb_exp-03_trial-0036', 'data_gb_exp-03_trial-0037', 'data_gb_exp-03_trial-0038', 'data_gb_exp-03_trial-0039', 'data_gb_exp-03_trial-0040', 'data_gb_exp-03_trial-0041', 'data_gb_exp-03_trial-0042', 'data_gb_exp-03_trial-0043', 'data_gb_exp-03_trial-0044', 'data_gb_exp-03_trial-0045', 'data_gb_exp-03_trial-0046', 'data_gb_exp-03_trial-0047', 'data_gb_exp-03_trial-0048', 'data_gb_exp-03_trial-0049', 'data_gb_exp-03_trial-0050', 'data_us_exp-01_trial-001', 'data_us_exp-01_trial-002', 'data_us_exp-01_trial-003', 'data_us_exp-01_trial-004', 'data_us_exp-01_trial-005', 'data_us_exp-01_trial-006', 'data_us_exp-01_trial-007', 'data_us_exp-01_trial-008', 'data_us_exp-01_trial-009', 'data_us_exp-01_trial-0010', 'data_us_exp-01_trial-0011', 'data_us_exp-01_trial-0012', 'data_us_exp-01_trial-0013', 'data_us_exp-01_trial-0014', 'data_us_exp-01_trial-0015', 'data_us_exp-01_trial-0016', 'data_us_exp-01_trial-0017', 'data_us_exp-01_trial-0018', 'data_us_exp-01_trial-0019', 'data_us_exp-01_trial-0020', 'data_us_exp-01_trial-0021', 'data_us_exp-01_trial-0022', 'data_us_exp-01_trial-0023', 'data_us_exp-01_trial-0024', 'data_us_exp-01_trial-0025', 'data_us_exp-01_trial-0026', 'data_us_exp-01_trial-0027', 'data_us_exp-01_trial-0028', 'data_us_exp-01_trial-0029', 'data_us_exp-01_trial-0030', 'data_us_exp-01_trial-0031', 'data_us_exp-01_trial-0032', 'data_us_exp-01_trial-0033', 'data_us_exp-01_trial-0034', 'data_us_exp-01_trial-0035', 'data_us_exp-01_trial-0036', 'data_us_exp-01_trial-0037', 'data_us_exp-01_trial-0038', 'data_us_exp-01_trial-0039', 'data_us_exp-01_trial-0040', 'data_us_exp-01_trial-0041', 'data_us_exp-01_trial-0042', 'data_us_exp-01_trial-0043', 'data_us_exp-01_trial-0044', 'data_us_exp-01_trial-0045', 'data_us_exp-01_trial-0046', 'data_us_exp-01_trial-0047', 'data_us_exp-01_trial-0048', 'data_us_exp-01_trial-0049', 'data_us_exp-01_trial-0050', 'data_us_exp-02_trial-001', 'data_us_exp-02_trial-002', 'data_us_exp-02_trial-003', 'data_us_exp-02_trial-004', 'data_us_exp-02_trial-005', 'data_us_exp-02_trial-006', 'data_us_exp-02_trial-007', 'data_us_exp-02_trial-008', 'data_us_exp-02_trial-009', 'data_us_exp-02_trial-0010', 'data_us_exp-02_trial-0011', 'data_us_exp-02_trial-0012', 'data_us_exp-02_trial-0013', 'data_us_exp-02_trial-0014', 'data_us_exp-02_trial-0015', 'data_us_exp-02_trial-0016', 'data_us_exp-02_trial-0017', 'data_us_exp-02_trial-0018', 'data_us_exp-02_trial-0019', 'data_us_exp-02_trial-0020', 'data_us_exp-02_trial-0021', 'data_us_exp-02_trial-0022', 'data_us_exp-02_trial-0023', 'data_us_exp-02_trial-0024', 'data_us_exp-02_trial-0025', 'data_us_exp-02_trial-0026', 'data_us_exp-02_trial-0027', 'data_us_exp-02_trial-0028', 'data_us_exp-02_trial-0029', 'data_us_exp-02_trial-0030', 'data_us_exp-02_trial-0031', 'data_us_exp-02_trial-0032', 'data_us_exp-02_trial-0033', 'data_us_exp-02_trial-0034', 'data_us_exp-02_trial-0035', 'data_us_exp-02_trial-0036', 'data_us_exp-02_trial-0037', 'data_us_exp-02_trial-0038', 'data_us_exp-02_trial-0039', 'data_us_exp-02_trial-0040', 'data_us_exp-02_trial-0041', 'data_us_exp-02_trial-0042', 'data_us_exp-02_trial-0043', 'data_us_exp-02_trial-0044', 'data_us_exp-02_trial-0045', 'data_us_exp-02_trial-0046', 'data_us_exp-02_trial-0047', 'data_us_exp-02_trial-0048', 'data_us_exp-02_trial-0049', 'data_us_exp-02_trial-0050', 'data_us_exp-03_trial-001', 'data_us_exp-03_trial-002', 'data_us_exp-03_trial-003', 'data_us_exp-03_trial-004', 'data_us_exp-03_trial-005', 'data_us_exp-03_trial-006', 'data_us_exp-03_trial-007', 'data_us_exp-03_trial-008', 'data_us_exp-03_trial-009', 'data_us_exp-03_trial-0010', 'data_us_exp-03_trial-0011', 'data_us_exp-03_trial-0012', 'data_us_exp-03_trial-0013', 'data_us_exp-03_trial-0014', 'data_us_exp-03_trial-0015', 'data_us_exp-03_trial-0016', 'data_us_exp-03_trial-0017', 'data_us_exp-03_trial-0018', 'data_us_exp-03_trial-0019', 'data_us_exp-03_trial-0020', 'data_us_exp-03_trial-0021', 'data_us_exp-03_trial-0022', 'data_us_exp-03_trial-0023', 'data_us_exp-03_trial-0024', 'data_us_exp-03_trial-0025', 'data_us_exp-03_trial-0026', 'data_us_exp-03_trial-0027', 'data_us_exp-03_trial-0028', 'data_us_exp-03_trial-0029', 'data_us_exp-03_trial-0030', 'data_us_exp-03_trial-0031', 'data_us_exp-03_trial-0032', 'data_us_exp-03_trial-0033', 'data_us_exp-03_trial-0034', 'data_us_exp-03_trial-0035', 'data_us_exp-03_trial-0036', 'data_us_exp-03_trial-0037', 'data_us_exp-03_trial-0038', 'data_us_exp-03_trial-0039', 'data_us_exp-03_trial-0040', 'data_us_exp-03_trial-0041', 'data_us_exp-03_trial-0042', 'data_us_exp-03_trial-0043', 'data_us_exp-03_trial-0044', 'data_us_exp-03_trial-0045', 'data_us_exp-03_trial-0046', 'data_us_exp-03_trial-0047', 'data_us_exp-03_trial-0048', 'data_us_exp-03_trial-0049', 'data_us_exp-03_trial-0050']\n"
     ]
    }
   ],
   "source": [
    "countries = [\"sg\",\"gb\",\"us\"]\n",
    "experiment = [\"1\",\"2\",\"3\"]\n",
    "trial = range(1,51)\n",
    "         \n",
    "answer = []\n",
    "\n",
    "for i in countries:\n",
    "    for j in experiment:\n",
    "        for y in trial:\n",
    "            answer.append(f'data_{i}_exp-0{j}_trial-00{y}')\n",
    "print(answer)"
   ]
  },
  {
   "cell_type": "markdown",
   "id": "2d9fe685",
   "metadata": {},
   "source": [
    "## Exercise 2 :  Tutti frutti"
   ]
  },
  {
   "cell_type": "code",
   "execution_count": 58,
   "id": "c9e5594b",
   "metadata": {},
   "outputs": [
    {
     "name": "stdout",
     "output_type": "stream",
     "text": [
      "'mango' is found in the list\n",
      "a e\n",
      "b a\n",
      "p e\n",
      "j t\n",
      "p h\n",
      "d n\n",
      "w n\n",
      "m o\n",
      "s y\n",
      "p t\n",
      "done\n",
      "apple\n",
      "banana\n",
      "PINEAPPLE\n",
      "jackfruit\n",
      "PEACH\n",
      "durian\n",
      "watermelon\n",
      "mango\n",
      "strawberry\n",
      "PASSIONFRUIT\n"
     ]
    }
   ],
   "source": [
    "fruits = [\"apple\", \"banana\", \"pineapple\", \"jackfruit\",\n",
    "        \"peach\", \"durian\", \"watermelon\", \"mango\",\n",
    "        \"strawberry\", \"passionfruit\"]\n",
    "\n",
    "if \"mango\" in fruits: \n",
    "        print(\"'mango' is found in the list\")\n",
    "else: \n",
    "    print(\"'mango' not found in the list\")\n",
    "\n",
    "    \n",
    "for elem in fruits: \n",
    "    print(elem[0],elem[-1])\n",
    "else:\n",
    "    print(\"done\")\n",
    "\n",
    "for elem in fruits: \n",
    "    if elem[0] == \"p\":\n",
    "        print(str.upper(elem))\n",
    "    else:\n",
    "        print(elem)"
   ]
  },
  {
   "cell_type": "code",
   "execution_count": 57,
   "id": "16cf0865",
   "metadata": {},
   "outputs": [
    {
     "name": "stdout",
     "output_type": "stream",
     "text": [
      "Updated fruits list ['apple', 'banana', 'pineapple', 'jackfruit', 'peach', 'durian', 'watermelon', 'mango', 'strawberry', 'passionfruit', ['dragon fruit', 'apricots', 'oranges']]\n"
     ]
    }
   ],
   "source": [
    "fruits = [\"apple\", \"banana\", \"pineapple\", \"jackfruit\",\n",
    "        \"peach\", \"durian\", \"watermelon\", \"mango\",\n",
    "        \"strawberry\", \"passionfruit\"]\n",
    "\n",
    "more_fruits = [\"dragon fruit\", \"apricots\", \"oranges\"]\n",
    "\n",
    "fruits.append(more_fruits)\n",
    "\n",
    "print('Updated fruits list', fruits)\n"
   ]
  },
  {
   "cell_type": "code",
   "execution_count": 60,
   "id": "4d6b21ee",
   "metadata": {},
   "outputs": [
    {
     "name": "stdout",
     "output_type": "stream",
     "text": [
      "Updated fruits list [['dragon fruit', 'apricots', 'oranges'], 'apple', 'banana', 'pineapple', 'jackfruit', 'peach', 'durian', 'watermelon', 'mango', 'strawberry', 'passionfruit']\n"
     ]
    }
   ],
   "source": [
    "fruits = [\"apple\", \"banana\", \"pineapple\", \"jackfruit\",\n",
    "        \"peach\", \"durian\", \"watermelon\", \"mango\",\n",
    "        \"strawberry\", \"passionfruit\"]\n",
    "\n",
    "more_fruits = [\"dragon fruit\", \"apricots\", \"oranges\"]\n",
    "\n",
    "fruits.insert(0, more_fruits) #prepending \n",
    "\n",
    "print('Updated fruits list', fruits)"
   ]
  },
  {
   "cell_type": "code",
   "execution_count": 62,
   "id": "0d372332",
   "metadata": {},
   "outputs": [
    {
     "name": "stdout",
     "output_type": "stream",
     "text": [
      "Updated fruits list ['apple', 'banana', 'pineapple', 'jackfruit', 'peach', ['dragon fruit', 'apricots', 'oranges'], 'durian', 'watermelon', 'mango', 'strawberry', 'passionfruit']\n"
     ]
    }
   ],
   "source": [
    "fruits = [\"apple\", \"banana\", \"pineapple\", \"jackfruit\",\n",
    "        \"peach\", \"durian\", \"watermelon\", \"mango\",\n",
    "        \"strawberry\", \"passionfruit\"]\n",
    "\n",
    "more_fruits = [\"dragon fruit\", \"apricots\", \"oranges\"]\n",
    "\n",
    "midpoint = len(fruits)//2 # for 9 items, after the 4th \n",
    "\n",
    "fruits.insert(midpoint, more_fruits) \n",
    "print(\"Updated fruits list\", fruits)\n"
   ]
  },
  {
   "cell_type": "code",
   "execution_count": 77,
   "id": "552f2e5b",
   "metadata": {},
   "outputs": [
    {
     "name": "stdout",
     "output_type": "stream",
     "text": [
      "pineapple\n",
      "jackfruit\n",
      "watermelon\n",
      "strawberry\n",
      "passionfruit\n"
     ]
    }
   ],
   "source": [
    "fruits = [\"apple\", \"banana\", \"pineapple\", \"jackfruit\",\n",
    "        \"peach\", \"durian\", \"watermelon\", \"mango\",\n",
    "        \"strawberry\", \"passionfruit\"]\n",
    "\n",
    "for elem in fruits: \n",
    "    if len(elem)>8:\n",
    "        print(elem)"
   ]
  },
  {
   "cell_type": "markdown",
   "id": "7950a9fb",
   "metadata": {},
   "source": [
    "## Exercise 3 :  Ciao Fibonacci"
   ]
  },
  {
   "cell_type": "code",
   "execution_count": 158,
   "id": "7ca98e2d",
   "metadata": {
    "code_folding": []
   },
   "outputs": [
    {
     "name": "stdout",
     "output_type": "stream",
     "text": [
      "Number of elements in Fibonacci Series, N, (N>=2) : 12\n",
      "[0, 1, 1, 2, 3, 5, 8, 13, 21, 34, 55, 89]\n"
     ]
    }
   ],
   "source": [
    "N = int(input(\"Number of elements in Fibonacci Series, N, (N>=2) : \"))\n",
    "\n",
    "fibonacciSeries = [0,1]\n",
    "\n",
    "if N>2:\n",
    "    for i in range(2, N):\n",
    "        nextelem = fibonacciSeries[i-1] + fibonacciSeries[i-2]\n",
    "        fibonacciSeries.append(nextelem)\n",
    "\n",
    "print(fibonacciSeries)"
   ]
  },
  {
   "cell_type": "markdown",
   "id": "7c578734",
   "metadata": {},
   "source": [
    "## Exercise 4 :  A function for Fibonacci"
   ]
  },
  {
   "cell_type": "code",
   "execution_count": 139,
   "id": "541b649f",
   "metadata": {},
   "outputs": [
    {
     "name": "stdout",
     "output_type": "stream",
     "text": [
      "How many terms? 12\n",
      "Fibonacci sequence:\n",
      "0\n",
      "1\n",
      "1\n",
      "2\n",
      "3\n",
      "5\n",
      "8\n",
      "13\n",
      "21\n",
      "34\n",
      "55\n",
      "89\n"
     ]
    }
   ],
   "source": [
    "nterms = int(input(\"How many terms? \"))\n",
    "n1, n2 = 0, 1\n",
    "count = 0\n",
    "\n",
    "if nterms <= 0:\n",
    "   print(\"Please enter a positive integer\")\n",
    "elif nterms == 1:\n",
    "   print(\"Fibonacci sequence upto\",nterms,\":\")\n",
    "   print(n1)\n",
    "else:\n",
    "   print(\"Fibonacci sequence:\")\n",
    "   while count < nterms:\n",
    "       print(n1)\n",
    "       nth = n1 + n2\n",
    "       n1 = n2\n",
    "       n2 = nth\n",
    "       count += 1"
   ]
  },
  {
   "cell_type": "markdown",
   "id": "276c8286",
   "metadata": {},
   "source": [
    "## Exercise 5 :  max_info() without NumPy"
   ]
  },
  {
   "cell_type": "code",
   "execution_count": 138,
   "id": "dfce168d",
   "metadata": {},
   "outputs": [
    {
     "name": "stdout",
     "output_type": "stream",
     "text": [
      "the maximum is: 83, and the index is: 2\n"
     ]
    }
   ],
   "source": [
    "numbers = [40, 27, 83, 44, 74, 51, 76, 77, 10, 49]\n",
    "max = numbers[0]\n",
    "index = 0\n",
    "\n",
    "for i in range(1,len(numbers)):\n",
    "     if numbers[i] > max:\n",
    "        max = numbers[i]\n",
    "        index=i\n",
    "print(f'the maximum is: {max}, and the index is: {index}')        "
   ]
  },
  {
   "cell_type": "markdown",
   "id": "82022daf",
   "metadata": {},
   "source": [
    "## Exercise 6 :  Take count"
   ]
  },
  {
   "cell_type": "code",
   "execution_count": 154,
   "id": "336b4725",
   "metadata": {},
   "outputs": [
    {
     "name": "stdout",
     "output_type": "stream",
     "text": [
      "['A', 'G', 'G', 'C', 'A', 'A', 'G', 'A', 'A', 'G', 'C', 'T', 'A', 'G', 'A', 'A', 'T', 'T', 'C', 'T', 'G', 'G', 'C', 'C', 'T', 'G', 'A', 'G', 'T', 'A', 'T', 'C', 'T', 'C', 'A', 'G', 'T', 'A', 'C', 'A', 'G', 'G', 'C', 'G', 'C', 'A', 'G', 'T', 'C', 'G', 'A', 'A', 'T', 'C', 'T', 'T', 'C', 'C', 'G', 'G', 'A', 'A', 'T', 'C', 'A', 'C', 'A', 'T', 'T', 'G', 'C', 'T', 'C', 'G', 'C', 'G', 'C', 'T', 'T', 'A', 'A', 'A', 'C', 'C', 'C', 'G', 'C', 'T', 'C', 'T', 'A', 'A', 'A', 'C', 'C', 'T', 'T', 'T', 'G', 'A', 'G', 'T', 'A', 'A', 'T', 'T', 'C', 'G', 'A', 'C', 'G', 'A', 'C', 'A', 'T', 'T', 'G', 'G', 'G', 'T', 'T', 'C', 'C', 'C', 'T', 'C', 'C', 'G', 'A', 'C', 'G', 'C', 'T', 'G', 'T', 'C', 'T', 'G', 'A', 'C', 'A', 'A', 'C', 'T', 'C', 'T', 'T', 'T', 'A', 'A', 'G', 'A', 'T', 'C', 'C', 'T', 'T', 'G', 'G', 'C', 'A', 'C', 'G', 'A', 'T', 'G', 'T', 'C', 'G', 'A', 'T', 'A', 'G', 'A', 'C', 'A', 'T', 'T', 'G', 'T', 'C', 'C', 'C', 'T', 'G', 'A', 'T', 'G', 'A', 'C', 'G', 'C', 'C', 'T', 'C', 'A', 'C', 'A', 'A', 'G', 'G', 'T', 'A', 'A', 'C', 'C', 'T', 'G', 'G', 'C', 'T', 'C', 'T', 'A', 'G', 'T', 'A', 'G', 'G', 'G', 'T', 'G', 'G', 'T', 'C', 'T', 'T', 'T', 'G', 'C', 'T', 'G', 'C', 'G', 'G', 'A', 'A', 'C', 'T', 'T', 'A', 'C', 'C', 'A', 'C', 'C', 'T', 'G', 'G', 'T', 'G', 'G', 'A', 'T', 'C', 'C', 'A', 'A', 'G', 'C', 'A', 'C', 'C', 'A', 'G', 'A', 'G', 'G', 'A', 'G', 'T', 'T', 'C', 'G', 'A', 'A', 'G', 'A', 'G', 'G', 'C', 'T', 'G', 'G', 'G', 'G', 'T', 'A', 'C', 'C', 'C', 'C', 'C', 'T', 'A', 'T', 'T', 'T', 'A', 'G', 'G', 'A', 'A', 'G', 'G', 'G', 'C', 'G', 'A', 'G', 'A', 'C', 'T', 'A', 'C', 'G', 'G', 'T', 'C', 'A', 'C', 'A', 'A', 'A', 'T', 'T', 'C', 'C', 'A', 'A', 'A', 'T', 'G', 'G', 'C', 'T', 'T', 'C', 'C', 'C', 'T', 'C', 'G', 'A', 'T', 'T', 'C', 'A', 'T', 'G', 'A', 'C', 'G', 'C', 'C', 'A', 'G', 'A', 'A', 'T', 'G', 'C', 'C', 'T', 'G', 'G', 'C', 'T', 'G', 'T', 'G', 'C', 'C', 'A', 'A', 'T', 'T', 'T', 'G', 'T', 'C', 'G', 'C', 'C', 'T', 'T', 'G', 'C', 'G', 'T', 'C', 'G', 'T', 'T', 'C', 'T', 'G', 'T', 'C', 'A', 'A', 'T', 'C', 'T', 'T', 'T', 'A', 'C', 'T', 'C', 'G', 'T', 'G', 'T', 'C', 'G', 'T', 'G', 'T', 'T', 'G', 'T', 'G', 'A', 'T', 'A', 'A', 'A', 'T', 'G', 'A', 'C', 'A', 'A', 'A', 'C', 'C', 'C', 'T', 'G', 'C', 'A', 'C', 'A', 'A', 'C', 'G', 'T', 'A', 'G', 'G', 'G', 'C', 'T', 'C', 'A', 'C', 'A', 'C', 'A', 'A', 'G', 'G', 'G', 'A', 'A', 'T', 'C', 'T', 'A', 'G', 'A', 'G', 'T', 'A', 'T', 'C', 'C', 'G', 'A', 'T', 'A', 'C', 'A', 'G', 'G', 'G', 'A', 'G', 'C', 'T', 'T', 'T', 'A', 'G', 'C', 'T', 'T', 'C', 'C', 'G', 'T', 'C', 'C', 'C', 'T', 'T', 'A', 'T', 'A', 'G', 'C', 'C', 'T', 'G', 'C', 'C', 'A', 'T', 'A', 'T', 'T', 'C', 'T', 'T', 'G', 'C', 'G', 'G', 'T', 'A', 'G', 'C', 'A', 'C', 'G', 'A', 'G', 'C', 'C', 'T', 'C', 'A', 'G', 'A', 'T', 'C', 'T', 'T', 'C', 'T', 'C', 'A', 'C', 'T', 'C', 'C', 'G', 'G', 'A', 'A', 'A', 'T', 'G', 'G', 'G', 'A', 'G', 'C', 'T', 'T', 'C', 'G', 'A', 'C', 'G', 'G', 'T', 'C', 'A', 'A', 'G', 'G', 'G', 'C', 'T', 'A', 'A', 'G', 'A', 'C', 'G', 'T', 'C', 'T', 'T', 'C', 'G', 'G', 'G', 'A', 'G', 'A', 'A', 'A', 'T', 'A', 'C', 'C', 'T', 'A', 'G', 'G', 'C', 'G', 'A', 'T', 'G', 'A', 'C', 'C', 'C', 'T', 'G', 'A', 'G', 'T', 'G', 'G', 'T', 'T', 'T', 'T', 'C', 'C', 'G', 'C', 'G', 'T', 'A', 'T', 'A', 'A', 'C', 'T', 'C', 'A', 'T', 'C', 'C', 'T', 'G', 'G', 'T', 'T', 'G', 'C', 'A', 'A', 'A', 'T', 'G', 'A', 'T', 'T', 'A', 'C', 'C', 'G', 'T', 'T', 'A', 'T', 'A', 'G', 'C', 'C', 'T', 'G', 'G', 'G', 'G', 'A', 'T', 'A', 'T', 'G', 'C', 'C', 'T', 'C', 'A', 'A', 'T', 'T', 'C', 'C', 'G', 'A', 'A', 'C', 'C', 'C', 'A', 'G', 'G', 'A', 'G', 'C', 'A', 'T', 'C', 'A', 'C', 'T', 'C', 'G', 'A', 'G', 'C', 'A', 'A', 'T', 'A', 'G', 'C', 'G', 'G', 'T', 'A', 'A', 'A', 'G', 'G', 'A', 'G', 'G', 'C', 'T', 'A', 'T', 'T', 'A', 'G', 'C', 'A', 'A', 'A', 'A', 'T', 'T', 'G', 'T', 'C', 'A', 'C', 'G', 'A', 'T', 'A', 'A', 'G', 'C', 'G', 'C', 'C', 'G', 'T', 'T', 'G', 'T', 'A', 'G', 'T', 'G', 'A', 'A', 'A', 'T', 'T', 'A', 'A', 'G', 'A', 'T', 'A', 'C', 'A', 'T', 'A', 'C', 'A', 'T', 'C', 'G', 'T', 'T', 'T', 'A', 'G', 'C', 'A', 'C', 'A', 'T', 'C', 'A', 'C', 'T', 'C', 'T', 'C', 'A', 'C', 'G', 'G', 'C', 'G', 'T', 'C', 'T', 'A', 'G', 'A', 'A', 'G', 'C', 'T', 'G', 'A', 'T', 'C', 'T', 'T', 'C', 'A', 'T', 'A', 'T', 'G', 'C', 'T', 'G', 'A', 'C', 'T', 'C', 'A', 'G', 'A', 'A', 'G', 'G', 'C', 'T', 'C', 'G', 'G', 'A', 'T', 'A', 'A', 'T', 'A', 'G', 'A', 'G', 'G', 'A', 'C', 'G', 'A', 'A', 'G', 'G', 'T', 'A', 'G', 'T', 'T', 'T', 'A', 'C', 'T', 'C', 'A', 'T', 'C', 'G', 'C', 'T', 'G', 'C', 'C', 'C', 'C', 'G', 'A', 'C', 'T', 'A', 'T', 'T', 'A', 'C', 'G', 'T', 'G', 'T', 'G', 'C', 'A', 'T', 'G', 'A', 'T', 'A', 'A', 'A', 'G', 'T', 'C', 'T', 'G', 'A', 'C', 'C', 'C', 'T', 'G', 'A', 'C', 'G', 'T', 'T', 'C', 'C', 'C', 'A', 'A', 'G', 'C', 'C', 'G', 'A', 'G', 'G', 'C', 'A', 'G', 'A', 'G', 'G', 'G', 'G', 'T', 'T', 'T', 'T', 'A', 'C', 'G', 'C', 'T', 'G', 'A', 'A', 'T', 'G', 'T', 'C', 'C', 'G', 'C', 'T', 'C', 'T', 'C', 'T', 'G', 'T', 'C', 'G', 'G', 'A', 'T', 'G', 'A', 'T', 'T', 'T', 'C', 'G', 'G', 'A', 'A', 'G', 'C', 'T', 'G']\n"
     ]
    }
   ],
   "source": [
    "sequence = 'AGGCAAGAAGCTAGAATTCTGGCCTGAGTATCTCAGTACAGGCGCAGTCGAATCTTCCGGAATCACATTGCTCGCGCTTAAACCCGCTCTAAACCTTTGAGTAATTCGACGACATTGGGTTCCCTCCGACGCTGTCTGACAACTCTTTAAGATCCTTGGCACGATGTCGATAGACATTGTCCCTGATGACGCCTCACAAGGTAACCTGGCTCTAGTAGGGTGGTCTTTGCTGCGGAACTTACCACCTGGTGGATCCAAGCACCAGAGGAGTTCGAAGAGGCTGGGGTACCCCCTATTTAGGAAGGGCGAGACTACGGTCACAAATTCCAAATGGCTTCCCTCGATTCATGACGCCAGAATGCCTGGCTGTGCCAATTTGTCGCCTTGCGTCGTTCTGTCAATCTTTACTCGTGTCGTGTTGTGATAAATGACAAACCCTGCACAACGTAGGGCTCACACAAGGGAATCTAGAGTATCCGATACAGGGAGCTTTAGCTTCCGTCCCTTATAGCCTGCCATATTCTTGCGGTAGCACGAGCCTCAGATCTTCTCACTCCGGAAATGGGAGCTTCGACGGTCAAGGGCTAAGACGTCTTCGGGAGAAATACCTAGGCGATGACCCTGAGTGGTTTTCCGCGTATAACTCATCCTGGTTGCAAATGATTACCGTTATAGCCTGGGGATATGCCTCAATTCCGAACCCAGGAGCATCACTCGAGCAATAGCGGTAAAGGAGGCTATTAGCAAAATTGTCACGATAAGCGCCGTTGTAGTGAAATTAAGATACATACATCGTTTAGCACATCACTCTCACGGCGTCTAGAAGCTGATCTTCATATGCTGACTCAGAAGGCTCGGATAATAGAGGACGAAGGTAGTTTACTCATCGCTGCCCCGACTATTACGTGTGCATGATAAAGTCTGACCCTGACGTTCCCAAGCCGAGGCAGAGGGGTTTTACGCTGAATGTCCGCTCTCTGTCGGATGATTTCGGAAGCTG'\n",
    "\n",
    "n=1\n",
    "chunks = [sequence[i:i+n] for i in range(0, len(sequence),n)]\n",
    "print(chunks)"
   ]
  },
  {
   "cell_type": "code",
   "execution_count": 1,
   "id": "cfca6bbd",
   "metadata": {},
   "outputs": [],
   "source": [
    "test_list = [4, 7, 10]"
   ]
  },
  {
   "cell_type": "code",
   "execution_count": 2,
   "id": "d1a32c5b",
   "metadata": {},
   "outputs": [],
   "source": [
    "test_list[0] += 1"
   ]
  },
  {
   "cell_type": "code",
   "execution_count": 3,
   "id": "b2c2b7d8",
   "metadata": {},
   "outputs": [
    {
     "data": {
      "text/plain": [
       "[5, 7, 10]"
      ]
     },
     "execution_count": 3,
     "metadata": {},
     "output_type": "execute_result"
    }
   ],
   "source": [
    "test_list"
   ]
  },
  {
   "cell_type": "code",
   "execution_count": null,
   "id": "84498094",
   "metadata": {},
   "outputs": [],
   "source": [
    "dict_count = {\"Ts\":0,\"As\":0,\"Cs\":0,\"Gs\":0}\n",
    "dict_count[\"Ts\"] += 1 #adds one every time it coms across a \"T\""
   ]
  },
  {
   "cell_type": "code",
   "execution_count": 4,
   "id": "657541fa",
   "metadata": {},
   "outputs": [
    {
     "name": "stdout",
     "output_type": "stream",
     "text": [
      "{'Ts': 254, 'As': 247, 'Cs': 250, 'Gs': 249}\n"
     ]
    }
   ],
   "source": [
    "sequence = 'AGGCAAGAAGCTAGAATTCTGGCCTGAGTATCTCAGTACAGGCGCAGTCGAATCTTCCGGAATCACATTGCTCGCGCTTAAACCCGCTCTAAACCTTTGAGTAATTCGACGACATTGGGTTCCCTCCGACGCTGTCTGACAACTCTTTAAGATCCTTGGCACGATGTCGATAGACATTGTCCCTGATGACGCCTCACAAGGTAACCTGGCTCTAGTAGGGTGGTCTTTGCTGCGGAACTTACCACCTGGTGGATCCAAGCACCAGAGGAGTTCGAAGAGGCTGGGGTACCCCCTATTTAGGAAGGGCGAGACTACGGTCACAAATTCCAAATGGCTTCCCTCGATTCATGACGCCAGAATGCCTGGCTGTGCCAATTTGTCGCCTTGCGTCGTTCTGTCAATCTTTACTCGTGTCGTGTTGTGATAAATGACAAACCCTGCACAACGTAGGGCTCACACAAGGGAATCTAGAGTATCCGATACAGGGAGCTTTAGCTTCCGTCCCTTATAGCCTGCCATATTCTTGCGGTAGCACGAGCCTCAGATCTTCTCACTCCGGAAATGGGAGCTTCGACGGTCAAGGGCTAAGACGTCTTCGGGAGAAATACCTAGGCGATGACCCTGAGTGGTTTTCCGCGTATAACTCATCCTGGTTGCAAATGATTACCGTTATAGCCTGGGGATATGCCTCAATTCCGAACCCAGGAGCATCACTCGAGCAATAGCGGTAAAGGAGGCTATTAGCAAAATTGTCACGATAAGCGCCGTTGTAGTGAAATTAAGATACATACATCGTTTAGCACATCACTCTCACGGCGTCTAGAAGCTGATCTTCATATGCTGACTCAGAAGGCTCGGATAATAGAGGACGAAGGTAGTTTACTCATCGCTGCCCCGACTATTACGTGTGCATGATAAAGTCTGACCCTGACGTTCCCAAGCCGAGGCAGAGGGGTTTTACGCTGAATGTCCGCTCTCTGTCGGATGATTTCGGAAGCTG'\n",
    "dict_count = {\"Ts\":0,\"As\":0,\"Cs\":0,\"Gs\":0}\n",
    "\n",
    "n=1\n",
    "chunks = [sequence[i:i+n] for i in range(0, len(sequence),n)]\n",
    "\n",
    "count_T = chunks.count(\"T\")\n",
    "count_A = chunks.count(\"A\")\n",
    "count_C = chunks.count(\"C\")\n",
    "count_G = chunks.count(\"G\")\n",
    "\n",
    "for i in chunks:\n",
    "    if i == \"T\":\n",
    "        dict_count[\"Ts\"] += 1\n",
    "    if i == \"A\":\n",
    "        dict_count[\"As\"] += 1\n",
    "    if i == \"C\":\n",
    "        dict_count[\"Cs\"] += 1\n",
    "    if i == \"G\":\n",
    "        dict_count[\"Gs\"] += 1   \n",
    "\n",
    "print(dict_count) #omg it worked"
   ]
  },
  {
   "cell_type": "code",
   "execution_count": 16,
   "id": "435e4b00",
   "metadata": {},
   "outputs": [
    {
     "name": "stdout",
     "output_type": "stream",
     "text": [
      "[['A' '247']\n",
      " ['C' '250']\n",
      " ['G' '249']\n",
      " ['T' '254']]\n"
     ]
    }
   ],
   "source": [
    "sequence = 'AGGCAAGAAGCTAGAATTCTGGCCTGAGTATCTCAGTACAGGCGCAGTCGAATCTTCCGGAATCACATTGCTCGCGCTTAAACCCGCTCTAAACCTTTGAGTAATTCGACGACATTGGGTTCCCTCCGACGCTGTCTGACAACTCTTTAAGATCCTTGGCACGATGTCGATAGACATTGTCCCTGATGACGCCTCACAAGGTAACCTGGCTCTAGTAGGGTGGTCTTTGCTGCGGAACTTACCACCTGGTGGATCCAAGCACCAGAGGAGTTCGAAGAGGCTGGGGTACCCCCTATTTAGGAAGGGCGAGACTACGGTCACAAATTCCAAATGGCTTCCCTCGATTCATGACGCCAGAATGCCTGGCTGTGCCAATTTGTCGCCTTGCGTCGTTCTGTCAATCTTTACTCGTGTCGTGTTGTGATAAATGACAAACCCTGCACAACGTAGGGCTCACACAAGGGAATCTAGAGTATCCGATACAGGGAGCTTTAGCTTCCGTCCCTTATAGCCTGCCATATTCTTGCGGTAGCACGAGCCTCAGATCTTCTCACTCCGGAAATGGGAGCTTCGACGGTCAAGGGCTAAGACGTCTTCGGGAGAAATACCTAGGCGATGACCCTGAGTGGTTTTCCGCGTATAACTCATCCTGGTTGCAAATGATTACCGTTATAGCCTGGGGATATGCCTCAATTCCGAACCCAGGAGCATCACTCGAGCAATAGCGGTAAAGGAGGCTATTAGCAAAATTGTCACGATAAGCGCCGTTGTAGTGAAATTAAGATACATACATCGTTTAGCACATCACTCTCACGGCGTCTAGAAGCTGATCTTCATATGCTGACTCAGAAGGCTCGGATAATAGAGGACGAAGGTAGTTTACTCATCGCTGCCCCGACTATTACGTGTGCATGATAAAGTCTGACCCTGACGTTCCCAAGCCGAGGCAGAGGGGTTTTACGCTGAATGTCCGCTCTCTGTCGGATGATTTCGGAAGCTG'\n",
    "\n",
    "n=1\n",
    "chunks = [sequence[i:i+n] for i in range(0, len(sequence),n)]\n",
    "\n",
    "x=np.array(chunks)\n",
    "unique, counts = np.unique(x, return_counts=True)\n",
    "print(np.asarray((unique, counts)).T) #god is great \n"
   ]
  },
  {
   "cell_type": "code",
   "execution_count": 223,
   "id": "9deff992",
   "metadata": {},
   "outputs": [
    {
     "name": "stdout",
     "output_type": "stream",
     "text": [
      "['AGGC', 'AAGA', 'AGCT', 'AGAA', 'TTCT', 'GGCC', 'TGAG', 'TATC', 'TCAG', 'TACA', 'GGCG', 'CAGT', 'CGAA', 'TCTT', 'CCGG', 'AATC', 'ACAT', 'TGCT', 'CGCG', 'CTTA', 'AACC', 'CGCT', 'CTAA', 'ACCT', 'TTGA', 'GTAA', 'TTCG', 'ACGA', 'CATT', 'GGGT', 'TCCC', 'TCCG', 'ACGC', 'TGTC', 'TGAC', 'AACT', 'CTTT', 'AAGA', 'TCCT', 'TGGC', 'ACGA', 'TGTC', 'GATA', 'GACA', 'TTGT', 'CCCT', 'GATG', 'ACGC', 'CTCA', 'CAAG', 'GTAA', 'CCTG', 'GCTC', 'TAGT', 'AGGG', 'TGGT', 'CTTT', 'GCTG', 'CGGA', 'ACTT', 'ACCA', 'CCTG', 'GTGG', 'ATCC', 'AAGC', 'ACCA', 'GAGG', 'AGTT', 'CGAA', 'GAGG', 'CTGG', 'GGTA', 'CCCC', 'CTAT', 'TTAG', 'GAAG', 'GGCG', 'AGAC', 'TACG', 'GTCA', 'CAAA', 'TTCC', 'AAAT', 'GGCT', 'TCCC', 'TCGA', 'TTCA', 'TGAC', 'GCCA', 'GAAT', 'GCCT', 'GGCT', 'GTGC', 'CAAT', 'TTGT', 'CGCC', 'TTGC', 'GTCG', 'TTCT', 'GTCA', 'ATCT', 'TTAC', 'TCGT', 'GTCG', 'TGTT', 'GTGA', 'TAAA', 'TGAC', 'AAAC', 'CCTG', 'CACA', 'ACGT', 'AGGG', 'CTCA', 'CACA', 'AGGG', 'AATC', 'TAGA', 'GTAT', 'CCGA', 'TACA', 'GGGA', 'GCTT', 'TAGC', 'TTCC', 'GTCC', 'CTTA', 'TAGC', 'CTGC', 'CATA', 'TTCT', 'TGCG', 'GTAG', 'CACG', 'AGCC', 'TCAG', 'ATCT', 'TCTC', 'ACTC', 'CGGA', 'AATG', 'GGAG', 'CTTC', 'GACG', 'GTCA', 'AGGG', 'CTAA', 'GACG', 'TCTT', 'CGGG', 'AGAA', 'ATAC', 'CTAG', 'GCGA', 'TGAC', 'CCTG', 'AGTG', 'GTTT', 'TCCG', 'CGTA', 'TAAC', 'TCAT', 'CCTG', 'GTTG', 'CAAA', 'TGAT', 'TACC', 'GTTA', 'TAGC', 'CTGG', 'GGAT', 'ATGC', 'CTCA', 'ATTC', 'CGAA', 'CCCA', 'GGAG', 'CATC', 'ACTC', 'GAGC', 'AATA', 'GCGG', 'TAAA', 'GGAG', 'GCTA', 'TTAG', 'CAAA', 'ATTG', 'TCAC', 'GATA', 'AGCG', 'CCGT', 'TGTA', 'GTGA', 'AATT', 'AAGA', 'TACA', 'TACA', 'TCGT', 'TTAG', 'CACA', 'TCAC', 'TCTC', 'ACGG', 'CGTC', 'TAGA', 'AGCT', 'GATC', 'TTCA', 'TATG', 'CTGA', 'CTCA', 'GAAG', 'GCTC', 'GGAT', 'AATA', 'GAGG', 'ACGA', 'AGGT', 'AGTT', 'TACT', 'CATC', 'GCTG', 'CCCC', 'GACT', 'ATTA', 'CGTG', 'TGCA', 'TGAT', 'AAAG', 'TCTG', 'ACCC', 'TGAC', 'GTTC', 'CCAA', 'GCCG', 'AGGC', 'AGAG', 'GGGT', 'TTTA', 'CGCT', 'GAAT', 'GTCC', 'GCTC', 'TCTG', 'TCGG', 'ATGA', 'TTTC', 'GGAA', 'GCTG']\n"
     ]
    }
   ],
   "source": [
    "sequence = 'AGGCAAGAAGCTAGAATTCTGGCCTGAGTATCTCAGTACAGGCGCAGTCGAATCTTCCGGAATCACATTGCTCGCGCTTAAACCCGCTCTAAACCTTTGAGTAATTCGACGACATTGGGTTCCCTCCGACGCTGTCTGACAACTCTTTAAGATCCTTGGCACGATGTCGATAGACATTGTCCCTGATGACGCCTCACAAGGTAACCTGGCTCTAGTAGGGTGGTCTTTGCTGCGGAACTTACCACCTGGTGGATCCAAGCACCAGAGGAGTTCGAAGAGGCTGGGGTACCCCCTATTTAGGAAGGGCGAGACTACGGTCACAAATTCCAAATGGCTTCCCTCGATTCATGACGCCAGAATGCCTGGCTGTGCCAATTTGTCGCCTTGCGTCGTTCTGTCAATCTTTACTCGTGTCGTGTTGTGATAAATGACAAACCCTGCACAACGTAGGGCTCACACAAGGGAATCTAGAGTATCCGATACAGGGAGCTTTAGCTTCCGTCCCTTATAGCCTGCCATATTCTTGCGGTAGCACGAGCCTCAGATCTTCTCACTCCGGAAATGGGAGCTTCGACGGTCAAGGGCTAAGACGTCTTCGGGAGAAATACCTAGGCGATGACCCTGAGTGGTTTTCCGCGTATAACTCATCCTGGTTGCAAATGATTACCGTTATAGCCTGGGGATATGCCTCAATTCCGAACCCAGGAGCATCACTCGAGCAATAGCGGTAAAGGAGGCTATTAGCAAAATTGTCACGATAAGCGCCGTTGTAGTGAAATTAAGATACATACATCGTTTAGCACATCACTCTCACGGCGTCTAGAAGCTGATCTTCATATGCTGACTCAGAAGGCTCGGATAATAGAGGACGAAGGTAGTTTACTCATCGCTGCCCCGACTATTACGTGTGCATGATAAAGTCTGACCCTGACGTTCCCAAGCCGAGGCAGAGGGGTTTTACGCTGAATGTCCGCTCTCTGTCGGATGATTTCGGAAGCTG'\n",
    "\n",
    "n=4\n",
    "chunks = [sequence[i:i+n] for i in range(0, len(sequence),n)]\n",
    "print(chunks)"
   ]
  }
 ],
 "metadata": {
  "kernelspec": {
   "display_name": "Python 3 (ipykernel)",
   "language": "python",
   "name": "python3"
  },
  "language_info": {
   "codemirror_mode": {
    "name": "ipython",
    "version": 3
   },
   "file_extension": ".py",
   "mimetype": "text/x-python",
   "name": "python",
   "nbconvert_exporter": "python",
   "pygments_lexer": "ipython3",
   "version": "3.9.13"
  },
  "toc": {
   "base_numbering": 1,
   "nav_menu": {},
   "number_sections": true,
   "sideBar": true,
   "skip_h1_title": false,
   "title_cell": "Table of Contents",
   "title_sidebar": "Contents",
   "toc_cell": false,
   "toc_position": {},
   "toc_section_display": true,
   "toc_window_display": false
  },
  "varInspector": {
   "cols": {
    "lenName": 16,
    "lenType": 16,
    "lenVar": 40
   },
   "kernels_config": {
    "python": {
     "delete_cmd_postfix": "",
     "delete_cmd_prefix": "del ",
     "library": "var_list.py",
     "varRefreshCmd": "print(var_dic_list())"
    },
    "r": {
     "delete_cmd_postfix": ") ",
     "delete_cmd_prefix": "rm(",
     "library": "var_list.r",
     "varRefreshCmd": "cat(var_dic_list()) "
    }
   },
   "types_to_exclude": [
    "module",
    "function",
    "builtin_function_or_method",
    "instance",
    "_Feature"
   ],
   "window_display": false
  },
  "vscode": {
   "interpreter": {
    "hash": "31f2aee4e71d21fbe5cf8b01ff0e069b9275f58929596ceb00d14d90e3e16cd6"
   }
  }
 },
 "nbformat": 4,
 "nbformat_minor": 5
}
