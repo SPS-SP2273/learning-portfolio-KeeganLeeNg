{
 "cells": [
  {
   "cell_type": "markdown",
   "id": "123456",
   "metadata": {},
   "source": [
    "<div style=\"text-align:left;font-size:2em\"><span style=\"font-weight:bolder;font-size:1.25em\">SP2273 | Learning Portfolio</span><br><br><span style=\"font-weight:bold;color:darkred\">Functions (Need)</span></div>"
   ]
  },
  {
   "cell_type": "markdown",
   "id": "3f4e400a",
   "metadata": {},
   "source": [
    "##  User defined functions"
   ]
  },
  {
   "cell_type": "markdown",
   "id": "4480b3d7",
   "metadata": {},
   "source": [
    "print() is an example of an internal function \n",
    "you can create your own function! "
   ]
  },
  {
   "cell_type": "markdown",
   "id": "5de5f942",
   "metadata": {},
   "source": [
    "### Named functions that return"
   ]
  },
  {
   "cell_type": "code",
   "execution_count": 3,
   "id": "057dfc91",
   "metadata": {},
   "outputs": [
    {
     "name": "stdout",
     "output_type": "stream",
     "text": [
      "Hello Super Man!\n",
      "Hello Super Man!\n",
      "Hello Super Man!\n",
      "Hello Super Man!\n"
     ]
    }
   ],
   "source": [
    "def greeting(name):\n",
    "    if name == 'Batman':   #def, the colon and the indentation demarcates the function block\n",
    "        return 'Hello Batman! So, nice to meet you!'\n",
    "    else:\n",
    "        return f'Hello {name}!'\n",
    "    \n",
    "print(greeting(\"Super Man\"))\n",
    "\n",
    "print(greeting(name=\"Super Man\"))\n",
    "\n",
    "greet=greeting(name='Super Man')\n",
    "print(greet)\n",
    "\n",
    "print(greeting(name='Super Man'))\n",
    "\n",
    "def basic_stats(numbers):\n",
    "    np_numbers=np.array(numbers)\n",
    "    return np_numbers.min(), np_numbers.max(), np_numbers.mean()\n",
    "\n",
    "list_min, list_max, list_mean = basic_stats([1, 2, 3, 4, 5])\n"
   ]
  },
  {
   "cell_type": "markdown",
   "id": "50624ed6",
   "metadata": {},
   "source": [
    "### Named functions that don’t return"
   ]
  },
  {
   "cell_type": "markdown",
   "id": "d5a6cca3",
   "metadata": {},
   "source": [
    "a function does not have to return anything (like print!)"
   ]
  },
  {
   "cell_type": "markdown",
   "id": "8b869ede",
   "metadata": {},
   "source": [
    "### Anonymous functions"
   ]
  },
  {
   "cell_type": "code",
   "execution_count": 5,
   "id": "a63fe3ea",
   "metadata": {},
   "outputs": [
    {
     "data": {
      "text/plain": [
       "[[0, 9, 19],\n",
       " [1, 8, 18],\n",
       " [2, 7, 17],\n",
       " [3, 6, 16],\n",
       " [4, 5, 15],\n",
       " [5, 4, 14],\n",
       " [6, 3, 13],\n",
       " [7, 2, 12],\n",
       " [8, 1, 11],\n",
       " [9, 0, 10]]"
      ]
     },
     "execution_count": 5,
     "metadata": {},
     "output_type": "execute_result"
    }
   ],
   "source": [
    "my_short_function = lambda name: f\"Hello {name}!\"\n",
    "my_short_function(name=\"Super Man\")\n",
    "\n",
    "numbers=[[9, 0, 10],\n",
    "         [8, 1, 11],\n",
    "         [7, 2, 12],\n",
    "         [6, 3, 13],\n",
    "         [5, 4, 14],\n",
    "         [4, 5, 15],\n",
    "         [3, 6, 16],\n",
    "         [2, 7, 17],\n",
    "         [1, 8, 18],\n",
    "         [0, 9, 19]]\n",
    "\n",
    "sorted(numbers)                         # Sort by comparing the default key \n",
    "                                        # (i.e. the 1st element) \n",
    "                                        "
   ]
  },
  {
   "cell_type": "code",
   "execution_count": 8,
   "id": "c20f2c38",
   "metadata": {},
   "outputs": [
    {
     "name": "stdout",
     "output_type": "stream",
     "text": [
      "[[9, 0, 10], [8, 1, 11], [7, 2, 12], [6, 3, 13], [5, 4, 14], [4, 5, 15], [3, 6, 16], [2, 7, 17], [1, 8, 18], [0, 9, 19]]\n",
      "[[9, 0, 10], [8, 1, 11], [7, 2, 12], [6, 3, 13], [5, 4, 14], [4, 5, 15], [3, 6, 16], [2, 7, 17], [1, 8, 18], [0, 9, 19]]\n"
     ]
    }
   ],
   "source": [
    "print(sorted(numbers, key=lambda x: x[1]))     # Sort by comparing a custom key\n",
    "                                        # that uses the 2nd element\n",
    "    \n",
    "print(sorted(numbers, key=lambda x: sum(x)))   # Sort by comparing a custom key\n",
    "                                        # that uses the sum of the elements"
   ]
  },
  {
   "cell_type": "markdown",
   "id": "dd9ef7a3",
   "metadata": {},
   "source": [
    "###  Optional arguments"
   ]
  },
  {
   "cell_type": "code",
   "execution_count": 9,
   "id": "52a1bd7d",
   "metadata": {},
   "outputs": [
    {
     "data": {
      "text/plain": [
       "'Hello no one!'"
      ]
     },
     "execution_count": 9,
     "metadata": {},
     "output_type": "execute_result"
    }
   ],
   "source": [
    "def greeting(name='no one'):\n",
    "    if name == 'Batman':\n",
    "        return 'Hello Batman! So, nice to meet you!'\n",
    "    else:\n",
    "        return f'Hello {name}!'\n",
    "\n",
    "greeting()"
   ]
  },
  {
   "cell_type": "code",
   "execution_count": 10,
   "id": "71623893",
   "metadata": {},
   "outputs": [],
   "source": [
    "?print #can accept other argumetns and are optional with default values"
   ]
  },
  {
   "cell_type": "markdown",
   "id": "d16f5e13",
   "metadata": {},
   "source": [
    "## The importance of functions?"
   ]
  },
  {
   "cell_type": "markdown",
   "id": "13c9d30c",
   "metadata": {},
   "source": [
    "### An argument for functions"
   ]
  },
  {
   "cell_type": "markdown",
   "id": "15f53ebb",
   "metadata": {},
   "source": [
    "abstraction of details –> ability to strategise by breaking up complicated solutions into modular chucks (not distracted by unnecesasary information). \n",
    "\n",
    "reusability of code –> if you encapsulate a chuck of code in a function, this means your code will be shorter and compact (and copy-paste-able!)\n",
    "\n",
    "maintainability of code –> with functions, your code is easier to change and maintain because you only need to make changes in one play (at the function definition) "
   ]
  },
  {
   "cell_type": "markdown",
   "id": "a26467ac",
   "metadata": {},
   "source": [
    "### A word of caution"
   ]
  },
  {
   "cell_type": "markdown",
   "id": "bc761022",
   "metadata": {},
   "source": [
    "however, overloaded functions (i.e. having too many arguments compressed into one function) can increase computational overheads and make your code unreadable. "
   ]
  },
  {
   "cell_type": "markdown",
   "id": "5d512e39",
   "metadata": {},
   "source": [
    "## Exercise 1 :  Do you know why?"
   ]
  },
  {
   "cell_type": "code",
   "execution_count": 17,
   "id": "49cac67a",
   "metadata": {},
   "outputs": [],
   "source": [
    "def greeting(name):\n",
    "    if name == 'Batman':\n",
    "        return 'Hello Batman! So, nice to meet you!'\n",
    "    return f'Hello {name}!'\n"
   ]
  },
  {
   "cell_type": "markdown",
   "id": "8a148647",
   "metadata": {},
   "source": [
    "because return completes the if loop and terminates the run "
   ]
  },
  {
   "cell_type": "markdown",
   "id": "11935777",
   "metadata": {},
   "source": [
    "## Exercise 2 :  Calculator functions"
   ]
  },
  {
   "cell_type": "code",
   "execution_count": 1,
   "id": "35724f86",
   "metadata": {},
   "outputs": [
    {
     "name": "stdout",
     "output_type": "stream",
     "text": [
      "[100 100 100 100 100]\n",
      "[-28 -32 -12  52 -46]\n",
      "[-28 -32 -12  52 -46]\n",
      "[0.5625     0.51515152 0.78571429 3.16666667 0.36986301]\n"
     ]
    }
   ],
   "source": [
    "def add(x,y):\n",
    "    return(x+y)\n",
    "\n",
    "def subtract(x,y):\n",
    "    return(x-y)\n",
    "\n",
    "def multiply(x,y):\n",
    "    return(x-y)\n",
    "\n",
    "def divide(x,y):\n",
    "    return (x/y)\n",
    "\n",
    "\n",
    "import numpy as np\n",
    "x=np.array([36,34,44,76,27])\n",
    "y=np.array([64,66,56,24,73])\n",
    "\n",
    "print(add(x,y))\n",
    "print(subtract(x,y))\n",
    "print(multiply(x,y))\n",
    "print(divide(x,y))\n"
   ]
  },
  {
   "cell_type": "markdown",
   "id": "abbfa18c",
   "metadata": {},
   "source": [
    "## Exercise 3 :  max_info() with NumPy"
   ]
  },
  {
   "cell_type": "code",
   "execution_count": 14,
   "id": "8bda9bf1",
   "metadata": {},
   "outputs": [
    {
     "name": "stdout",
     "output_type": "stream",
     "text": [
      "(83, 2)\n"
     ]
    }
   ],
   "source": [
    "numbers = [40, 27, 83, 44, 74, 51, 76, 77, 10, 49]\n",
    "\n",
    "def max_info(numbers):\n",
    "    return (np.max(numbers), np.argmax(numbers))\n",
    "\n",
    "print(max_info(numbers))\n",
    "\n",
    "\n",
    "    "
   ]
  }
 ],
 "metadata": {
  "kernelspec": {
   "display_name": "Python 3 (ipykernel)",
   "language": "python",
   "name": "python3"
  },
  "language_info": {
   "codemirror_mode": {
    "name": "ipython",
    "version": 3
   },
   "file_extension": ".py",
   "mimetype": "text/x-python",
   "name": "python",
   "nbconvert_exporter": "python",
   "pygments_lexer": "ipython3",
   "version": "3.9.13"
  },
  "toc": {
   "base_numbering": 1,
   "nav_menu": {},
   "number_sections": true,
   "sideBar": true,
   "skip_h1_title": false,
   "title_cell": "Table of Contents",
   "title_sidebar": "Contents",
   "toc_cell": false,
   "toc_position": {},
   "toc_section_display": true,
   "toc_window_display": false
  },
  "varInspector": {
   "cols": {
    "lenName": 16,
    "lenType": 16,
    "lenVar": 40
   },
   "kernels_config": {
    "python": {
     "delete_cmd_postfix": "",
     "delete_cmd_prefix": "del ",
     "library": "var_list.py",
     "varRefreshCmd": "print(var_dic_list())"
    },
    "r": {
     "delete_cmd_postfix": ") ",
     "delete_cmd_prefix": "rm(",
     "library": "var_list.r",
     "varRefreshCmd": "cat(var_dic_list()) "
    }
   },
   "types_to_exclude": [
    "module",
    "function",
    "builtin_function_or_method",
    "instance",
    "_Feature"
   ],
   "window_display": false
  },
  "vscode": {
   "interpreter": {
    "hash": "31f2aee4e71d21fbe5cf8b01ff0e069b9275f58929596ceb00d14d90e3e16cd6"
   }
  }
 },
 "nbformat": 4,
 "nbformat_minor": 5
}
