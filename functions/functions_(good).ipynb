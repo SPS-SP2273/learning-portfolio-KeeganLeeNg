{
 "cells": [
  {
   "cell_type": "markdown",
   "id": "123456",
   "metadata": {},
   "source": [
    "<div style=\"text-align:left;font-size:2em\"><span style=\"font-weight:bolder;font-size:1.25em\">SP2273 | Learning Portfolio</span><br><br><span style=\"font-weight:bold;color:darkred\">Functions (Good)</span></div>"
   ]
  },
  {
   "cell_type": "markdown",
   "id": "118af7ad",
   "metadata": {},
   "source": [
    "##  Check, balances and contingencies"
   ]
  },
  {
   "cell_type": "markdown",
   "id": "c638f4a0",
   "metadata": {},
   "source": [
    "### assert"
   ]
  },
  {
   "cell_type": "code",
   "execution_count": 3,
   "id": "19a05594",
   "metadata": {},
   "outputs": [],
   "source": [
    "x = 10\n",
    "assert x >= 0, \"x is becoming negative!\" #the programme will run for as long as the condition is true \n",
    "\n",
    "#adding print statements allows the outside world to know what is happening\n",
    "\n"
   ]
  },
  {
   "cell_type": "markdown",
   "id": "cc9042ac",
   "metadata": {},
   "source": [
    "### try-except"
   ]
  },
  {
   "cell_type": "code",
   "execution_count": 7,
   "id": "858ba051",
   "metadata": {},
   "outputs": [
    {
     "name": "stdout",
     "output_type": "stream",
     "text": [
      "Give me a number and I will calculate its square.12\n",
      "The square of 12 is 144!\n",
      "Give me a number and I will calculate its square.haha\n",
      "Oh oh! I cannot square haha!\n"
     ]
    }
   ],
   "source": [
    "number=input(\"Give me a number and I will calculate its square.\")\n",
    "square=int(number)**2              # Convert English to number\n",
    "print(f'The square of {number} is {square}!')\n",
    "\n",
    "try:\n",
    "    number=input(\"Give me a number and I will calculate its square.\")\n",
    "    square=int(number)**2\n",
    "    print(f'The square of {number} is {square}!')\n",
    "except:\n",
    "    print(f\"Oh oh! I cannot square {number}!\")"
   ]
  },
  {
   "cell_type": "markdown",
   "id": "63ff7509",
   "metadata": {},
   "source": [
    "## Some loose ends"
   ]
  },
  {
   "cell_type": "markdown",
   "id": "cabc183c",
   "metadata": {},
   "source": [
    "### Positional, keyword and default arguments"
   ]
  },
  {
   "cell_type": "code",
   "execution_count": 8,
   "id": "02fa00f5",
   "metadata": {},
   "outputs": [],
   "source": [
    "def funny_add(a, b, c=1):\n",
    "    return a + 10*b + 100*c\n"
   ]
  },
  {
   "cell_type": "markdown",
   "id": "f327d783",
   "metadata": {},
   "source": [
    "python cannot unambiguously figure out what the position of 1 is "
   ]
  },
  {
   "cell_type": "markdown",
   "id": "0bf6246a",
   "metadata": {},
   "source": [
    "### Docstrings"
   ]
  },
  {
   "cell_type": "code",
   "execution_count": 10,
   "id": "09ed4d03",
   "metadata": {},
   "outputs": [
    {
     "name": "stdout",
     "output_type": "stream",
     "text": [
      "Help on function funny_add in module __main__:\n",
      "\n",
      "funny_add(a, b, c=1)\n",
      "    A test function to demonstrate how \n",
      "    positional, keyword and default arguments \n",
      "    work.\n",
      "\n"
     ]
    }
   ],
   "source": [
    "def funny_add(a, b, c=1):\n",
    "    '''\n",
    "    A test function to demonstrate how \n",
    "    positional, keyword and default arguments \n",
    "    work.\n",
    "    '''\n",
    "    return a + 10*b + 100*c\n",
    "\n",
    "help(funny_add)"
   ]
  },
  {
   "cell_type": "markdown",
   "id": "c8b6aec8",
   "metadata": {},
   "source": [
    "docstring feature allows us to document what a fucntion does inside the function "
   ]
  },
  {
   "cell_type": "markdown",
   "id": "a920e3d2",
   "metadata": {},
   "source": [
    "### Function are first class citizens"
   ]
  },
  {
   "cell_type": "code",
   "execution_count": 12,
   "id": "ee31afc9",
   "metadata": {},
   "outputs": [
    {
     "data": {
      "text/plain": [
       "-1.0"
      ]
     },
     "execution_count": 12,
     "metadata": {},
     "output_type": "execute_result"
    }
   ],
   "source": [
    "def my_function(angle, trig_function):\n",
    "        return trig_function(angle)\n",
    "\n",
    "# Let's use the function\n",
    "my_function(np.pi/2, np.sin)        \n",
    "#> 1.0\n",
    "my_function(np.pi/2, np.cos)        \n",
    "#> 6.123233995736766e-17\n",
    "my_function(np.pi/2, lambda x: np.cos(2*x))  \n",
    "#> -1.0\n"
   ]
  },
  {
   "cell_type": "markdown",
   "id": "6e8fb351",
   "metadata": {},
   "source": [
    "when we pass a function as an argument, we do not include the parenthesis "
   ]
  },
  {
   "cell_type": "markdown",
   "id": "91c591c8",
   "metadata": {},
   "source": [
    "### More unpacking"
   ]
  },
  {
   "cell_type": "code",
   "execution_count": 15,
   "id": "9298fc73",
   "metadata": {},
   "outputs": [
    {
     "name": "stdout",
     "output_type": "stream",
     "text": [
      "1 2 3\n",
      "1 2 3\n",
      "1 [2, 3, 4] 5\n",
      "1 5\n"
     ]
    }
   ],
   "source": [
    "x, y, z = [1, 2, 3]\n",
    "print(x, y, z)\n",
    "\n",
    "x, y, z = np.array([1, 2, 3])\n",
    "print(x, y, z)\n",
    "\n",
    "x, *y, z = np.array([1, 2, 3, 4, 5])\n",
    "print(x, y, z)\n",
    "\n",
    "x, *_, y = [1, 2, 3, 4, 5]\n",
    "print(x, y)"
   ]
  },
  {
   "cell_type": "markdown",
   "id": "715b22ae",
   "metadata": {},
   "source": [
    "## Exercise 1 :  A better calculator I"
   ]
  },
  {
   "cell_type": "code",
   "execution_count": 22,
   "id": "32107fdf",
   "metadata": {},
   "outputs": [
    {
     "ename": "ValueError",
     "evalue": "The truth value of an array with more than one element is ambiguous. Use a.any() or a.all()",
     "output_type": "error",
     "traceback": [
      "\u001b[0;31m---------------------------------------------------------------------------\u001b[0m",
      "\u001b[0;31mValueError\u001b[0m                                Traceback (most recent call last)",
      "\u001b[0;32m/var/folders/y3/jh2xk8816tj_l6xs6gt2q4k40000gn/T/ipykernel_12607/450923618.py\u001b[0m in \u001b[0;36m<module>\u001b[0;34m\u001b[0m\n\u001b[1;32m     15\u001b[0m \u001b[0my\u001b[0m\u001b[0;34m=\u001b[0m\u001b[0mnp\u001b[0m\u001b[0;34m.\u001b[0m\u001b[0marray\u001b[0m\u001b[0;34m(\u001b[0m\u001b[0;34m[\u001b[0m\u001b[0;36m64\u001b[0m\u001b[0;34m,\u001b[0m\u001b[0;36m66\u001b[0m\u001b[0;34m,\u001b[0m\u001b[0;36m56\u001b[0m\u001b[0;34m,\u001b[0m\u001b[0;36m24\u001b[0m\u001b[0;34m,\u001b[0m\u001b[0;36m73\u001b[0m\u001b[0;34m]\u001b[0m\u001b[0;34m)\u001b[0m\u001b[0;34m\u001b[0m\u001b[0;34m\u001b[0m\u001b[0m\n\u001b[1;32m     16\u001b[0m \u001b[0;34m\u001b[0m\u001b[0m\n\u001b[0;32m---> 17\u001b[0;31m \u001b[0;32massert\u001b[0m \u001b[0mx\u001b[0m \u001b[0;34m==\u001b[0m \u001b[0mtype\u001b[0m\u001b[0;34m(\u001b[0m\u001b[0mint\u001b[0m\u001b[0;34m)\u001b[0m\u001b[0;34m,\u001b[0m \u001b[0;34m\"x is not a number!\"\u001b[0m\u001b[0;34m\u001b[0m\u001b[0;34m\u001b[0m\u001b[0m\n\u001b[0m\u001b[1;32m     18\u001b[0m \u001b[0;34m\u001b[0m\u001b[0m\n\u001b[1;32m     19\u001b[0m \u001b[0mprint\u001b[0m\u001b[0;34m(\u001b[0m\u001b[0madd\u001b[0m\u001b[0;34m(\u001b[0m\u001b[0mx\u001b[0m\u001b[0;34m,\u001b[0m\u001b[0my\u001b[0m\u001b[0;34m)\u001b[0m\u001b[0;34m)\u001b[0m\u001b[0;34m\u001b[0m\u001b[0;34m\u001b[0m\u001b[0m\n",
      "\u001b[0;31mValueError\u001b[0m: The truth value of an array with more than one element is ambiguous. Use a.any() or a.all()"
     ]
    }
   ],
   "source": [
    "def add(x, y):\n",
    "    return x+y\n",
    "\n",
    "\n",
    "def subtract(x, y):\n",
    "    return(x-y)\n",
    "\n",
    "\n",
    "def multiply(x, y):\n",
    "    return x-y\n",
    "\n",
    "\n",
    "def divide(x, y):\n",
    "    return x/y\n",
    "\n",
    "\n",
    "import numpy as np\n",
    "\n",
    "\n",
    "x = np.array([36, 34, 44, 76, 27])\n",
    "y = np.array([64, 66, 56, 24, 73])\n",
    "\n",
    "assert len(x) != 0, \"Array is empty.\"\n",
    "assert len(y) != 0, \"Array is empty.\"\n",
    "\n",
    "print(add(x, y))\n",
    "print(subtract(x, y))\n",
    "print(multiply(x, y))\n",
    "print(divide(x, y))"
   ]
  },
  {
   "cell_type": "markdown",
   "id": "590bfe38",
   "metadata": {},
   "source": [
    "## Exercise 2 :  A better calculator II"
   ]
  },
  {
   "cell_type": "code",
   "execution_count": 1,
   "id": "6565f973",
   "metadata": {},
   "outputs": [
    {
     "name": "stdout",
     "output_type": "stream",
     "text": [
      "[100 100 100 100 100]\n",
      "[-28 -32 -12  52 -46]\n",
      "[-28 -32 -12  52 -46]\n",
      "[0.5625     0.51515152 0.78571429 3.16666667 0.36986301]\n"
     ]
    }
   ],
   "source": [
    "\n",
    "def add(x, y):\n",
    "    return x+y\n",
    "\n",
    "\n",
    "def subtract(x, y):\n",
    "    return(x-y)\n",
    "\n",
    "\n",
    "def multiply(x, y):\n",
    "    return x-y\n",
    "\n",
    "\n",
    "def divide(x, y):\n",
    "    return x/y\n",
    "\n",
    "\n",
    "import numpy as np\n",
    "\n",
    "\n",
    "x = np.array([36, 34, 44, 76, 27])\n",
    "y = np.array([64, 66, 56, 24, 73])\n",
    "\n",
    "try:\n",
    "    print(add(x, y))\n",
    "    print(subtract(x, y))\n",
    "    print(multiply(x, y))\n",
    "    print(divide(x, y))\n",
    "except:\n",
    "    print(\"Array is empty.\") #the bug im trying to solve is that the array is empty "
   ]
  }
 ],
 "metadata": {
  "kernelspec": {
   "display_name": "Python 3 (ipykernel)",
   "language": "python",
   "name": "python3"
  },
  "language_info": {
   "codemirror_mode": {
    "name": "ipython",
    "version": 3
   },
   "file_extension": ".py",
   "mimetype": "text/x-python",
   "name": "python",
   "nbconvert_exporter": "python",
   "pygments_lexer": "ipython3",
   "version": "3.9.13"
  },
  "toc": {
   "base_numbering": 1,
   "nav_menu": {},
   "number_sections": true,
   "sideBar": true,
   "skip_h1_title": false,
   "title_cell": "Table of Contents",
   "title_sidebar": "Contents",
   "toc_cell": false,
   "toc_position": {},
   "toc_section_display": true,
   "toc_window_display": false
  },
  "varInspector": {
   "cols": {
    "lenName": 16,
    "lenType": 16,
    "lenVar": 40
   },
   "kernels_config": {
    "python": {
     "delete_cmd_postfix": "",
     "delete_cmd_prefix": "del ",
     "library": "var_list.py",
     "varRefreshCmd": "print(var_dic_list())"
    },
    "r": {
     "delete_cmd_postfix": ") ",
     "delete_cmd_prefix": "rm(",
     "library": "var_list.r",
     "varRefreshCmd": "cat(var_dic_list()) "
    }
   },
   "types_to_exclude": [
    "module",
    "function",
    "builtin_function_or_method",
    "instance",
    "_Feature"
   ],
   "window_display": false
  },
  "vscode": {
   "interpreter": {
    "hash": "31f2aee4e71d21fbe5cf8b01ff0e069b9275f58929596ceb00d14d90e3e16cd6"
   }
  }
 },
 "nbformat": 4,
 "nbformat_minor": 5
}
