{
 "cells": [
  {
   "cell_type": "markdown",
   "id": "123456",
   "metadata": {},
   "source": [
    "<div style=\"text-align:left;font-size:2em\"><span style=\"font-weight:bolder;font-size:1.25em\">SP2273 | Learning Portfolio</span><br><br><span style=\"font-weight:bold;color:darkred\">Loops (Good)</span></div>"
   ]
  },
  {
   "cell_type": "markdown",
   "id": "330856ae",
   "metadata": {},
   "source": [
    "## Interrupting the flow"
   ]
  },
  {
   "cell_type": "code",
   "execution_count": 5,
   "id": "556ba7c3",
   "metadata": {},
   "outputs": [
    {
     "name": "stdout",
     "output_type": "stream",
     "text": [
      "0\n",
      "1\n",
      "2\n",
      "3\n",
      "4\n"
     ]
    }
   ],
   "source": [
    "number=0\n",
    "\n",
    "while True:\n",
    "    print(number)\n",
    "    number += 1\n",
    "    if number > 4: break"
   ]
  },
  {
   "cell_type": "markdown",
   "id": "19aee328",
   "metadata": {},
   "source": [
    "##  List comprehension!"
   ]
  },
  {
   "cell_type": "markdown",
   "id": "77668c0e",
   "metadata": {},
   "source": [
    "###  Basic syntax"
   ]
  },
  {
   "cell_type": "code",
   "execution_count": 8,
   "id": "37cc12d9",
   "metadata": {},
   "outputs": [
    {
     "name": "stdout",
     "output_type": "stream",
     "text": [
      "[0, 1, 2, 3, 4, 5, 6, 7, 8, 9]\n",
      "[0, 1, 4, 9, 16, 25, 36, 49, 64, 81]\n"
     ]
    }
   ],
   "source": [
    "print([number for number in range(10)])\n",
    "\n",
    "\n",
    "print([number**2 for number in range(10)])"
   ]
  },
  {
   "cell_type": "markdown",
   "id": "eeef7a87",
   "metadata": {},
   "source": [
    "### List comprehension with conditions"
   ]
  },
  {
   "cell_type": "code",
   "execution_count": 9,
   "id": "1f075072",
   "metadata": {},
   "outputs": [
    {
     "data": {
      "text/plain": [
       "[0, 2, 4, 6, 8]"
      ]
     },
     "execution_count": 9,
     "metadata": {},
     "output_type": "execute_result"
    }
   ],
   "source": [
    "[number for number in range(10) if number % 2 ==0]"
   ]
  },
  {
   "cell_type": "markdown",
   "id": "b21b5b44",
   "metadata": {},
   "source": [
    "## Other useful stuff"
   ]
  },
  {
   "cell_type": "markdown",
   "id": "9cd86dad",
   "metadata": {},
   "source": [
    "### for with unpacking"
   ]
  },
  {
   "cell_type": "code",
   "execution_count": 10,
   "id": "e85e2a22",
   "metadata": {},
   "outputs": [
    {
     "name": "stdout",
     "output_type": "stream",
     "text": [
      "x = 1, y = 2, z = 3\n"
     ]
    }
   ],
   "source": [
    "x, y, z=[1, 2, 3]\n",
    "print(f'x = {x}, y = {y}, z = {z}')"
   ]
  },
  {
   "cell_type": "code",
   "execution_count": 11,
   "id": "17c1179e",
   "metadata": {},
   "outputs": [
    {
     "name": "stdout",
     "output_type": "stream",
     "text": [
      "Natasha Romanoff is Marvel's Black Widow!\n",
      "Tony Stark is Marvel's Iron Man!\n",
      "Stephen Strange is Marvel's Doctor Strange!\n"
     ]
    }
   ],
   "source": [
    "py_superhero_info=[['Natasha Romanoff', 'Black Widow'],\n",
    "                     ['Tony Stark', 'Iron Man'],\n",
    "                     ['Stephen Strange', 'Doctor Strange']]\n",
    "\n",
    "for real_name, super_name in py_superhero_info:\n",
    "    print(f\"{real_name} is Marvel's {super_name}!\")"
   ]
  },
  {
   "cell_type": "markdown",
   "id": "3c4b75d4",
   "metadata": {},
   "source": [
    "### for with a zip()"
   ]
  },
  {
   "cell_type": "code",
   "execution_count": 12,
   "id": "f5e5c8ed",
   "metadata": {},
   "outputs": [
    {
     "name": "stdout",
     "output_type": "stream",
     "text": [
      "Natasha Romanoff is Marvel's Black Widow!\n",
      "Tony Stark is Marvel's Iron Man!\n",
      "Stephen Strange is Marvel's Doctor Strange!\n"
     ]
    }
   ],
   "source": [
    "super_names = [\"Black Widow\", \"Iron Man\", \"Doctor Strange\"]\n",
    "real_names = [\"Natasha Romanoff\", \"Tony Stark\", \"Stephen Strange\"]\n",
    "\n",
    "for real_name, super_name in zip(real_names,super_names):\n",
    "    print(f\"{real_name} is Marvel's {super_name}!\")"
   ]
  },
  {
   "cell_type": "markdown",
   "id": "2f6fa049",
   "metadata": {},
   "source": [
    "### for with dictionaries"
   ]
  },
  {
   "cell_type": "code",
   "execution_count": 14,
   "id": "96b8ace7",
   "metadata": {},
   "outputs": [
    {
     "name": "stdout",
     "output_type": "stream",
     "text": [
      "Natasha Romanoff is Marvel's Black Widow!\n",
      "Tony Stark is Marvel's Iron Man!\n",
      "Stephen Strange is Marvel's Doctor Strange!\n",
      "Natasha Romanoff is Marvel's Black Widow!\n",
      "Tony Stark is Marvel's Iron Man!\n",
      "Stephen Strange is Marvel's Doctor Strange!\n"
     ]
    }
   ],
   "source": [
    "superhero_info={\"Natasha Romanoff\": \"Black Widow\",\n",
    "                \"Tony Stark\": \"Iron Man\",\n",
    "                \"Stephen Strange\": \"Doctor Strange\"}\n",
    "\n",
    "for key, value in superhero_info.items():\n",
    "    print(f\"{key} is Marvel's {value}!\")\n",
    "    \n",
    "    \n",
    "for key in superhero_info.keys():\n",
    "    value=superhero_info[key]\n",
    "    print(f\"{key} is Marvel's {value}!\")\n"
   ]
  },
  {
   "cell_type": "markdown",
   "id": "38b9fa16",
   "metadata": {},
   "source": [
    "## Exercise 1 :  Make me an odd list"
   ]
  },
  {
   "cell_type": "code",
   "execution_count": 19,
   "id": "984f44d1",
   "metadata": {},
   "outputs": [
    {
     "name": "stdout",
     "output_type": "stream",
     "text": [
      "1\n",
      "3\n",
      "5\n",
      "7\n",
      "9\n"
     ]
    }
   ],
   "source": [
    "for i in range(10):\n",
    "    if i%2==0: continue  \n",
    "    print(i)\n"
   ]
  },
  {
   "cell_type": "markdown",
   "id": "32d680fd",
   "metadata": {},
   "source": [
    "## Exercise 2 :  Make me another odd list"
   ]
  },
  {
   "cell_type": "code",
   "execution_count": 23,
   "id": "38833030",
   "metadata": {},
   "outputs": [
    {
     "data": {
      "text/plain": [
       "[1, 3, 5, 7, 9]"
      ]
     },
     "execution_count": 23,
     "metadata": {},
     "output_type": "execute_result"
    }
   ],
   "source": [
    "[number for number in range(10) if number%2==1]\n",
    "\n"
   ]
  },
  {
   "cell_type": "markdown",
   "id": "da4b8c77",
   "metadata": {},
   "source": [
    "## Exercise 3 :  Time me!"
   ]
  },
  {
   "cell_type": "code",
   "execution_count": 36,
   "id": "6db23a0d",
   "metadata": {},
   "outputs": [
    {
     "name": "stdout",
     "output_type": "stream",
     "text": [
      "1\n",
      "3\n",
      "5\n",
      "7\n",
      "9\n"
     ]
    },
    {
     "name": "stderr",
     "output_type": "stream",
     "text": [
      "UsageError: Line magic function `%%timeit` not found.\n"
     ]
    }
   ],
   "source": [
    "%%timeit\n",
    "    for i in range(10):\n",
    "        if i%2==0: continue  \n",
    "        print(i)\n",
    "\n",
    "%%timeit\n",
    "    print([number for number in range(10) if number%2==1])\n"
   ]
  },
  {
   "cell_type": "markdown",
   "id": "5fd8eaba",
   "metadata": {},
   "source": [
    "okay, its refusing to work and idk why but im going to assume that the second one is faster because python only needs to read one line whereas the first one is slower because python is dumb dumb "
   ]
  },
  {
   "cell_type": "code",
   "execution_count": null,
   "id": "ac8f4fc6",
   "metadata": {},
   "outputs": [],
   "source": []
  }
 ],
 "metadata": {
  "kernelspec": {
   "display_name": "Python 3 (ipykernel)",
   "language": "python",
   "name": "python3"
  },
  "language_info": {
   "codemirror_mode": {
    "name": "ipython",
    "version": 3
   },
   "file_extension": ".py",
   "mimetype": "text/x-python",
   "name": "python",
   "nbconvert_exporter": "python",
   "pygments_lexer": "ipython3",
   "version": "3.9.13"
  },
  "toc": {
   "base_numbering": 1,
   "nav_menu": {},
   "number_sections": true,
   "sideBar": true,
   "skip_h1_title": false,
   "title_cell": "Table of Contents",
   "title_sidebar": "Contents",
   "toc_cell": false,
   "toc_position": {},
   "toc_section_display": true,
   "toc_window_display": false
  },
  "varInspector": {
   "cols": {
    "lenName": 16,
    "lenType": 16,
    "lenVar": 40
   },
   "kernels_config": {
    "python": {
     "delete_cmd_postfix": "",
     "delete_cmd_prefix": "del ",
     "library": "var_list.py",
     "varRefreshCmd": "print(var_dic_list())"
    },
    "r": {
     "delete_cmd_postfix": ") ",
     "delete_cmd_prefix": "rm(",
     "library": "var_list.r",
     "varRefreshCmd": "cat(var_dic_list()) "
    }
   },
   "types_to_exclude": [
    "module",
    "function",
    "builtin_function_or_method",
    "instance",
    "_Feature"
   ],
   "window_display": false
  },
  "vscode": {
   "interpreter": {
    "hash": "31f2aee4e71d21fbe5cf8b01ff0e069b9275f58929596ceb00d14d90e3e16cd6"
   }
  }
 },
 "nbformat": 4,
 "nbformat_minor": 5
}
