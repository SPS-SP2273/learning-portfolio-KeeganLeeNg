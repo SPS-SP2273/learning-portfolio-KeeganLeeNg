{
 "cells": [
  {
   "cell_type": "markdown",
   "id": "123456",
   "metadata": {},
   "source": [
    "<div style=\"text-align:left;font-size:2em\"><span style=\"font-weight:bolder;font-size:1.25em\">SP2273 | Learning Portfolio</span><br><br><span style=\"font-weight:bold;color:darkred\">Basics (Need)</span></div>"
   ]
  },
  {
   "cell_type": "markdown",
   "id": "9007d4c7",
   "metadata": {},
   "source": [
    "##  Some Python Basics"
   ]
  },
  {
   "cell_type": "markdown",
   "id": "058d8a0b",
   "metadata": {},
   "source": [
    "###  Functions"
   ]
  },
  {
   "cell_type": "code",
   "execution_count": null,
   "id": "956f0e52",
   "metadata": {},
   "outputs": [],
   "source": [
    "print('Hello World!')\n"
   ]
  },
  {
   "cell_type": "markdown",
   "id": "353f28aa",
   "metadata": {},
   "source": [
    "() always follows a function"
   ]
  },
  {
   "cell_type": "markdown",
   "id": "5609411a",
   "metadata": {},
   "source": [
    "### Python is interpreted"
   ]
  },
  {
   "cell_type": "code",
   "execution_count": null,
   "id": "023ee0bc",
   "metadata": {},
   "outputs": [],
   "source": [
    "print('Hello World')\n",
    "print('Hello World again')\n"
   ]
  },
  {
   "cell_type": "markdown",
   "id": "67674edb",
   "metadata": {},
   "source": [
    "###  Python is sensitive."
   ]
  },
  {
   "cell_type": "code",
   "execution_count": null,
   "id": "52b74b90",
   "metadata": {},
   "outputs": [],
   "source": [
    "print('Hello World')\n",
    "Print('Hello World')"
   ]
  },
  {
   "cell_type": "markdown",
   "id": "73faf769",
   "metadata": {},
   "source": [
    "python is case-sensitive "
   ]
  },
  {
   "cell_type": "markdown",
   "id": "0b2f2c74",
   "metadata": {},
   "source": [
    "### Comments"
   ]
  },
  {
   "cell_type": "code",
   "execution_count": null,
   "id": "5063b672",
   "metadata": {},
   "outputs": [],
   "source": [
    "print('Hello world') #Printing \"Hello World!\""
   ]
  },
  {
   "cell_type": "markdown",
   "id": "f5d1ce6c",
   "metadata": {},
   "source": [
    "anything between # and the end of the line constitues the comment "
   ]
  },
  {
   "cell_type": "markdown",
   "id": "d2038071",
   "metadata": {},
   "source": [
    "### = is not the same as =="
   ]
  },
  {
   "cell_type": "markdown",
   "id": "1a40750c",
   "metadata": {},
   "source": [
    "= is used to **Set** something equal (assigns a value)\n",
    "\n",
    "== is used to **check** if something is equal (i.e., asking a question)\n"
   ]
  },
  {
   "cell_type": "markdown",
   "id": "127191a0",
   "metadata": {},
   "source": [
    "### Use if to make decisions"
   ]
  },
  {
   "cell_type": "code",
   "execution_count": 1,
   "id": "58ecdca4",
   "metadata": {},
   "outputs": [
    {
     "name": "stdout",
     "output_type": "stream",
     "text": [
      "Hello Hero | Batman!\n"
     ]
    }
   ],
   "source": [
    "name = 'Batman'\n",
    "if name == 'Batman':\n",
    "    print('Hello Hero | Batman!')\n",
    "else: \n",
    "    print('hello world')"
   ]
  },
  {
   "cell_type": "markdown",
   "id": "38afb712",
   "metadata": {},
   "source": [
    "notice the use of : and indentations (spaces or tabs) to define what to do if the answer is tue and what to do if the asnwer is false. "
   ]
  },
  {
   "cell_type": "markdown",
   "id": "675037af",
   "metadata": {},
   "source": [
    "###  Indentations (spaces) are sooo IMPORTANT!"
   ]
  },
  {
   "cell_type": "code",
   "execution_count": 3,
   "id": "72b7e6f3",
   "metadata": {},
   "outputs": [
    {
     "name": "stdout",
     "output_type": "stream",
     "text": [
      "10\n"
     ]
    }
   ],
   "source": [
    "x = 10 \n",
    "print(x)"
   ]
  },
  {
   "cell_type": "code",
   "execution_count": 4,
   "id": "f6fdcd66",
   "metadata": {},
   "outputs": [
    {
     "ename": "IndentationError",
     "evalue": "unexpected indent (1719616585.py, line 2)",
     "output_type": "error",
     "traceback": [
      "\u001b[0;36m  File \u001b[0;32m\"/var/folders/y3/jh2xk8816tj_l6xs6gt2q4k40000gn/T/ipykernel_3289/1719616585.py\"\u001b[0;36m, line \u001b[0;32m2\u001b[0m\n\u001b[0;31m    print(x)\u001b[0m\n\u001b[0m    ^\u001b[0m\n\u001b[0;31mIndentationError\u001b[0m\u001b[0;31m:\u001b[0m unexpected indent\n"
     ]
    }
   ],
   "source": [
    "x=10\n",
    " print(x)"
   ]
  },
  {
   "cell_type": "markdown",
   "id": "36b0c1c0",
   "metadata": {},
   "source": [
    "Just use the tab key"
   ]
  },
  {
   "cell_type": "markdown",
   "id": "5c2fdf33",
   "metadata": {},
   "source": [
    "### ‘age’ is English, age is a variable."
   ]
  },
  {
   "cell_type": "code",
   "execution_count": 6,
   "id": "85fb2668",
   "metadata": {},
   "outputs": [
    {
     "ename": "NameError",
     "evalue": "name 'age' is not defined",
     "output_type": "error",
     "traceback": [
      "\u001b[0;31m---------------------------------------------------------------------------\u001b[0m",
      "\u001b[0;31mNameError\u001b[0m                                 Traceback (most recent call last)",
      "\u001b[0;32m/var/folders/y3/jh2xk8816tj_l6xs6gt2q4k40000gn/T/ipykernel_3289/3206026413.py\u001b[0m in \u001b[0;36m<module>\u001b[0;34m\u001b[0m\n\u001b[0;32m----> 1\u001b[0;31m \u001b[0mprint\u001b[0m\u001b[0;34m(\u001b[0m\u001b[0mage\u001b[0m\u001b[0;34m)\u001b[0m \u001b[0;31m#Print the value of the variable age\u001b[0m\u001b[0;34m\u001b[0m\u001b[0;34m\u001b[0m\u001b[0m\n\u001b[0m\u001b[1;32m      2\u001b[0m \u001b[0;34m\u001b[0m\u001b[0m\n\u001b[1;32m      3\u001b[0m \u001b[0mprint\u001b[0m\u001b[0;34m(\u001b[0m\u001b[0;34m\"age\"\u001b[0m\u001b[0;34m)\u001b[0m \u001b[0;31m#Print the word 'age'\u001b[0m\u001b[0;34m\u001b[0m\u001b[0;34m\u001b[0m\u001b[0m\n",
      "\u001b[0;31mNameError\u001b[0m: name 'age' is not defined"
     ]
    }
   ],
   "source": [
    "print(age) #Print the value of the variable age \n",
    "\n",
    "print(\"age\") #Print the word 'age'\n"
   ]
  },
  {
   "cell_type": "code",
   "execution_count": 8,
   "id": "7da00366",
   "metadata": {},
   "outputs": [
    {
     "name": "stdout",
     "output_type": "stream",
     "text": [
      "10\n"
     ]
    }
   ],
   "source": [
    "age = 10 \n",
    "print(age)"
   ]
  },
  {
   "cell_type": "code",
   "execution_count": 9,
   "id": "58da6c2b",
   "metadata": {},
   "outputs": [
    {
     "name": "stdout",
     "output_type": "stream",
     "text": [
      "You're twenty years old\n"
     ]
    }
   ],
   "source": [
    "print(\"You're twenty years old\")"
   ]
  },
  {
   "cell_type": "markdown",
   "id": "9c7223e3",
   "metadata": {},
   "source": [
    "### Escape sequences"
   ]
  },
  {
   "cell_type": "code",
   "execution_count": 10,
   "id": "feb12b69",
   "metadata": {},
   "outputs": [
    {
     "ename": "SyntaxError",
     "evalue": "unexpected character after line continuation character (1819410123.py, line 1)",
     "output_type": "error",
     "traceback": [
      "\u001b[0;36m  File \u001b[0;32m\"/var/folders/y3/jh2xk8816tj_l6xs6gt2q4k40000gn/T/ipykernel_3289/1819410123.py\"\u001b[0;36m, line \u001b[0;32m1\u001b[0m\n\u001b[0;31m    \\\\\u001b[0m\n\u001b[0m     ^\u001b[0m\n\u001b[0;31mSyntaxError\u001b[0m\u001b[0;31m:\u001b[0m unexpected character after line continuation character\n"
     ]
    }
   ],
   "source": [
    "\\\\"
   ]
  },
  {
   "cell_type": "code",
   "execution_count": 12,
   "id": "a9172d85",
   "metadata": {},
   "outputs": [
    {
     "name": "stdout",
     "output_type": "stream",
     "text": [
      "You're twenty years old.\n"
     ]
    }
   ],
   "source": [
    "print('You\\'re twenty years old.')"
   ]
  },
  {
   "cell_type": "code",
   "execution_count": 13,
   "id": "73cea4c5",
   "metadata": {},
   "outputs": [
    {
     "name": "stdout",
     "output_type": "stream",
     "text": [
      "A\\B\\C\n"
     ]
    }
   ],
   "source": [
    "print('A\\\\B\\\\C')"
   ]
  },
  {
   "cell_type": "code",
   "execution_count": 14,
   "id": "309fba6c",
   "metadata": {},
   "outputs": [
    {
     "name": "stdout",
     "output_type": "stream",
     "text": [
      "A\n",
      "B\n",
      "C\n"
     ]
    }
   ],
   "source": [
    "print('A\\nB\\nC')"
   ]
  },
  {
   "cell_type": "code",
   "execution_count": 16,
   "id": "5f04abdc",
   "metadata": {},
   "outputs": [
    {
     "name": "stdout",
     "output_type": "stream",
     "text": [
      "A\tB\tC\n"
     ]
    }
   ],
   "source": [
    "print('A\\tB\\tC')"
   ]
  },
  {
   "cell_type": "markdown",
   "id": "c06ee521",
   "metadata": {},
   "source": [
    "### Brackets"
   ]
  },
  {
   "cell_type": "markdown",
   "id": "3fec44cf",
   "metadata": {},
   "source": [
    "python uses () in calls to function \n",
    "\n",
    "() is also used for mathematics \n",
    "\n",
    "[] for lists of data \n",
    "\n",
    "{} is used to store data; this means of storing data is called a dictionary"
   ]
  },
  {
   "cell_type": "code",
   "execution_count": 17,
   "id": "f9f7b0a3",
   "metadata": {},
   "outputs": [],
   "source": [
    "py_list = [1, 2, 3, 4, 5]   # A 1D list\n",
    "\n",
    "py_list_2 = [[1, \"A\"],      # A 2D list\n",
    "             [2, \"B\"],\n",
    "             [3, \"C\"],\n",
    "             [4, \"D\"],\n",
    "             [5, \"E\"]]"
   ]
  },
  {
   "cell_type": "code",
   "execution_count": 18,
   "id": "014c2599",
   "metadata": {},
   "outputs": [],
   "source": [
    "personal_info = {\n",
    "    'Names': 'Batman',\n",
    "    'Real Name': 'Bruce Wayne',\n",
    "    'Age': 55,\n",
    "    'Affiliation': 'Justice League',\n",
    "    'Universe': 'DC'\n",
    "}"
   ]
  },
  {
   "cell_type": "code",
   "execution_count": 20,
   "id": "6c6d97b6",
   "metadata": {},
   "outputs": [
    {
     "name": "stdout",
     "output_type": "stream",
     "text": [
      "Bruce Wayne\n"
     ]
    }
   ],
   "source": [
    "print(personal_info['Real Name'])"
   ]
  },
  {
   "cell_type": "markdown",
   "id": "3bfffd56",
   "metadata": {},
   "source": [
    "##  Giving Python superpowers"
   ]
  },
  {
   "cell_type": "markdown",
   "id": "a35f4de7",
   "metadata": {},
   "source": [
    "###  Packages"
   ]
  },
  {
   "cell_type": "code",
   "execution_count": 21,
   "id": "3ea65c97",
   "metadata": {},
   "outputs": [
    {
     "data": {
      "text/plain": [
       "40.5"
      ]
     },
     "execution_count": 21,
     "metadata": {},
     "output_type": "execute_result"
    }
   ],
   "source": [
    "1 * ((2 - 3) + 4) ** 5 / 6"
   ]
  },
  {
   "cell_type": "code",
   "execution_count": 22,
   "id": "8fa0c508",
   "metadata": {},
   "outputs": [
    {
     "ename": "NameError",
     "evalue": "name 'sqrt' is not defined",
     "output_type": "error",
     "traceback": [
      "\u001b[0;31m---------------------------------------------------------------------------\u001b[0m",
      "\u001b[0;31mNameError\u001b[0m                                 Traceback (most recent call last)",
      "\u001b[0;32m/var/folders/y3/jh2xk8816tj_l6xs6gt2q4k40000gn/T/ipykernel_3289/1103852951.py\u001b[0m in \u001b[0;36m<module>\u001b[0;34m\u001b[0m\n\u001b[0;32m----> 1\u001b[0;31m \u001b[0msqrt\u001b[0m\u001b[0;34m(\u001b[0m\u001b[0;36m4\u001b[0m\u001b[0;34m)\u001b[0m\u001b[0;34m\u001b[0m\u001b[0;34m\u001b[0m\u001b[0m\n\u001b[0m",
      "\u001b[0;31mNameError\u001b[0m: name 'sqrt' is not defined"
     ]
    }
   ],
   "source": [
    "sqrt(4)"
   ]
  },
  {
   "cell_type": "code",
   "execution_count": 23,
   "id": "060ef8c3",
   "metadata": {},
   "outputs": [
    {
     "data": {
      "text/plain": [
       "2.0"
      ]
     },
     "execution_count": 23,
     "metadata": {},
     "output_type": "execute_result"
    }
   ],
   "source": [
    "import math         # Adding(importing) the functions\n",
    "                    # of the 'math' package    \n",
    "\n",
    "math.sqrt(4)"
   ]
  },
  {
   "cell_type": "code",
   "execution_count": 24,
   "id": "1e8f578c",
   "metadata": {},
   "outputs": [
    {
     "data": {
      "text/plain": [
       "2.0"
      ]
     },
     "execution_count": 24,
     "metadata": {},
     "output_type": "execute_result"
    }
   ],
   "source": [
    "import numpy as np \n",
    "\n",
    "np.sqrt(4)"
   ]
  },
  {
   "cell_type": "code",
   "execution_count": 25,
   "id": "8673b6d7",
   "metadata": {},
   "outputs": [
    {
     "data": {
      "text/plain": [
       "array([2., 3., 4.])"
      ]
     },
     "execution_count": 25,
     "metadata": {},
     "output_type": "execute_result"
    }
   ],
   "source": [
    "np.sqrt([4,9,16])"
   ]
  },
  {
   "cell_type": "markdown",
   "id": "efb3e547",
   "metadata": {},
   "source": [
    "### The dot (.)"
   ]
  },
  {
   "cell_type": "markdown",
   "id": "fe053e1f",
   "metadata": {},
   "source": [
    "the dot indicates ownership, and what it can access depends on the context "
   ]
  },
  {
   "cell_type": "markdown",
   "id": "2e4fe407",
   "metadata": {},
   "source": [
    "## Exercise 1 :  Total recall?"
   ]
  },
  {
   "cell_type": "markdown",
   "id": "e16a3534",
   "metadata": {},
   "source": [
    "() for math and functions \n",
    "[] for lists \n",
    "{} this for storage in what is called a **dictionary**\n",
    "\n",
    "comments can be made using #\n",
    "\n",
    "install packages and use them by package. etc; the dot denotes ownership \n",
    "\n",
    "= is assigning stuff \n",
    "\n",
    "== is asking questions \n",
    "\n",
    "*'age' is a english, age is variable*\n",
    "\n",
    "*indentations are important becuase python is dumb and cannot read* \n",
    "*python is case sensative* \n",
    "\n",
    "*escape sequences are something? but they seem completely useless*\n"
   ]
  },
  {
   "cell_type": "markdown",
   "id": "d2ddfbfb",
   "metadata": {},
   "source": [
    "## Exercise 2 :  Debug me"
   ]
  },
  {
   "cell_type": "code",
   "execution_count": 33,
   "id": "9f3750da",
   "metadata": {},
   "outputs": [
    {
     "name": "stdout",
     "output_type": "stream",
     "text": [
      "3 4 5.0\n"
     ]
    }
   ],
   "source": [
    "x, y= 3, 4\n",
    "import math\n",
    "z=math.sqrt(x*x + y*y)\n",
    "print(x,y,z)\n"
   ]
  },
  {
   "cell_type": "markdown",
   "id": "2fcff265",
   "metadata": {},
   "source": [
    "## Exercise 3 :  In your own words"
   ]
  },
  {
   "cell_type": "markdown",
   "id": "768c7b92",
   "metadata": {},
   "source": [
    "|# | Term | Description |\n",
    "|:--- | :--: | ---: |\n",
    "|1 | Function | performs something |\n",
    "|2 | Arguments | a value that is summoned to a function when called |\n",
    "|3 | Comments | made using # to annotate in that same line |\n",
    "|4 | Indentations | separates different blocks of code e.g. for-loops or if statements|\n",
    "|5 | Packages | useful extensions that can be imported to enable python to do a wide variety of features, functionality and perform more complex operations|\n",
    "|6 | . | the dot (.) notation allows access to attributes and methods odifferent object classes | \n",
    "\n",
    "\n"
   ]
  },
  {
   "cell_type": "markdown",
   "id": "56e190b3",
   "metadata": {},
   "source": [
    "## Exercise 4 :  More than one way to divide"
   ]
  },
  {
   "cell_type": "code",
   "execution_count": 34,
   "id": "a91a4c3a",
   "metadata": {},
   "outputs": [
    {
     "data": {
      "text/plain": [
       "2.5"
      ]
     },
     "execution_count": 34,
     "metadata": {},
     "output_type": "execute_result"
    }
   ],
   "source": [
    "5/2 # actual division"
   ]
  },
  {
   "cell_type": "code",
   "execution_count": 35,
   "id": "0c2941ef",
   "metadata": {},
   "outputs": [
    {
     "data": {
      "text/plain": [
       "2"
      ]
     },
     "execution_count": 35,
     "metadata": {},
     "output_type": "execute_result"
    }
   ],
   "source": [
    "5//2 # rounds **down** to the nearest whole number after division"
   ]
  },
  {
   "cell_type": "code",
   "execution_count": 36,
   "id": "af6d2be8",
   "metadata": {},
   "outputs": [
    {
     "data": {
      "text/plain": [
       "1"
      ]
     },
     "execution_count": 36,
     "metadata": {},
     "output_type": "execute_result"
    }
   ],
   "source": [
    "5%2 # modulus ? (remainer after division)"
   ]
  }
 ],
 "metadata": {
  "kernelspec": {
   "display_name": "Python 3 (ipykernel)",
   "language": "python",
   "name": "python3"
  },
  "language_info": {
   "codemirror_mode": {
    "name": "ipython",
    "version": 3
   },
   "file_extension": ".py",
   "mimetype": "text/x-python",
   "name": "python",
   "nbconvert_exporter": "python",
   "pygments_lexer": "ipython3",
   "version": "3.9.13"
  },
  "toc": {
   "base_numbering": 1,
   "nav_menu": {},
   "number_sections": true,
   "sideBar": true,
   "skip_h1_title": false,
   "title_cell": "Table of Contents",
   "title_sidebar": "Contents",
   "toc_cell": false,
   "toc_position": {},
   "toc_section_display": true,
   "toc_window_display": false
  },
  "varInspector": {
   "cols": {
    "lenName": 16,
    "lenType": 16,
    "lenVar": 40
   },
   "kernels_config": {
    "python": {
     "delete_cmd_postfix": "",
     "delete_cmd_prefix": "del ",
     "library": "var_list.py",
     "varRefreshCmd": "print(var_dic_list())"
    },
    "r": {
     "delete_cmd_postfix": ") ",
     "delete_cmd_prefix": "rm(",
     "library": "var_list.r",
     "varRefreshCmd": "cat(var_dic_list()) "
    }
   },
   "types_to_exclude": [
    "module",
    "function",
    "builtin_function_or_method",
    "instance",
    "_Feature"
   ],
   "window_display": false
  },
  "vscode": {
   "interpreter": {
    "hash": "31f2aee4e71d21fbe5cf8b01ff0e069b9275f58929596ceb00d14d90e3e16cd6"
   }
  }
 },
 "nbformat": 4,
 "nbformat_minor": 5
}
