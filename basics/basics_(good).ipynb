{
 "cells": [
  {
   "cell_type": "markdown",
   "id": "123456",
   "metadata": {},
   "source": [
    "<div style=\"text-align:left;font-size:2em\"><span style=\"font-weight:bolder;font-size:1.25em\">SP2273 | Learning Portfolio</span><br><br><span style=\"font-weight:bold;color:darkred\">Basics (Good)</span></div>"
   ]
  },
  {
   "cell_type": "markdown",
   "id": "3b599f4b",
   "metadata": {},
   "source": [
    "##  More Python Basics"
   ]
  },
  {
   "cell_type": "markdown",
   "id": "39070fa5",
   "metadata": {},
   "source": [
    "###  Computers read = from Right to Left!"
   ]
  },
  {
   "cell_type": "code",
   "execution_count": 3,
   "id": "5c06c2e2",
   "metadata": {},
   "outputs": [
    {
     "name": "stdout",
     "output_type": "stream",
     "text": [
      "42\n"
     ]
    }
   ],
   "source": [
    "x = 40 \n",
    "y = x + 2 #python reads from right to left so 2 + x \n",
    "print(y)"
   ]
  },
  {
   "cell_type": "markdown",
   "id": "cb434b8b",
   "metadata": {},
   "source": [
    "python also allows the following syntax \n",
    "x = y = 10 "
   ]
  },
  {
   "cell_type": "markdown",
   "id": "e8a665da",
   "metadata": {},
   "source": [
    "###  Shorter and cleaner"
   ]
  },
  {
   "cell_type": "code",
   "execution_count": 7,
   "id": "c7f06df8",
   "metadata": {},
   "outputs": [
    {
     "name": "stdout",
     "output_type": "stream",
     "text": [
      "42\n",
      "38\n",
      "20.0\n",
      "80\n"
     ]
    }
   ],
   "source": [
    "y = 40 \n",
    "y += 2 #same as y = y+2 \n",
    "print(y)\n",
    "\n",
    "y = 40 \n",
    "y -= 2 #same as y = y-2 \n",
    "print(y)\n",
    "\n",
    "y = 40 \n",
    "y /= 2 \n",
    "print(y)\n",
    "\n",
    "y= 40 \n",
    "y*= 2 \n",
    "print(y)"
   ]
  },
  {
   "cell_type": "markdown",
   "id": "037e5141",
   "metadata": {},
   "source": [
    "### Asking questions"
   ]
  },
  {
   "cell_type": "code",
   "execution_count": 15,
   "id": "9ae2d217",
   "metadata": {},
   "outputs": [
    {
     "name": "stdout",
     "output_type": "stream",
     "text": [
      "True\n",
      "False\n",
      "True\n",
      "True\n",
      "True\n"
     ]
    }
   ],
   "source": [
    "fruit = [\"apple\", \"banana\", \"pineapple\", \"jackfruit\"]\n",
    "vegetables = [\"celery\", \"potato\", \"broccoli\", \"kale\"]\n",
    "\n",
    "print(\"apple\" in fruit)\n",
    "\n",
    "print(\"peach\" in fruit)\n",
    "\n",
    "print(\"peach\" not in fruit)\n",
    "\n",
    "print((\"apple\" in fruit) and (\"celery\" in vegetables))\n",
    "\n",
    "print((\"apple\" in fruit) or (\"celery\" in vegetables))"
   ]
  },
  {
   "cell_type": "markdown",
   "id": "1d3ceaf8",
   "metadata": {},
   "source": [
    "###  There is more to if"
   ]
  },
  {
   "cell_type": "code",
   "execution_count": 13,
   "id": "aac424aa",
   "metadata": {},
   "outputs": [
    {
     "name": "stdout",
     "output_type": "stream",
     "text": [
      "Hello Hero | Batman!\n"
     ]
    }
   ],
   "source": [
    "name = 'Batman'\n",
    "\n",
    "if name == 'Batman':\n",
    "    print('Hello Hero | Batman!')\n",
    "elif name == 'Robin':\n",
    "    print('Hello Sidekick | Robin')\n",
    "else: \n",
    "    print('Hello World!')"
   ]
  },
  {
   "cell_type": "markdown",
   "id": "6ce9bb92",
   "metadata": {},
   "source": [
    "### Python stores information in different formats or types."
   ]
  },
  {
   "cell_type": "code",
   "execution_count": 20,
   "id": "6ede99bc",
   "metadata": {},
   "outputs": [
    {
     "name": "stdout",
     "output_type": "stream",
     "text": [
      "1 <class 'int'>\n",
      "1.234 <class 'str'>\n",
      "1.234 <class 'float'>\n",
      "(1.234+0j) <class 'complex'>\n"
     ]
    }
   ],
   "source": [
    "x = int(1.234)\n",
    "print(x, type(x))\n",
    "\n",
    "x = str(1.234)\n",
    "print(x, type(x))\n",
    "\n",
    "x= float(1.234)\n",
    "print(x, type(x))\n",
    "\n",
    "x=complex(1.234)\n",
    "print(x, type(x))"
   ]
  },
  {
   "cell_type": "markdown",
   "id": "305cdb0f",
   "metadata": {},
   "source": [
    "### Combining English and variables"
   ]
  },
  {
   "cell_type": "code",
   "execution_count": 25,
   "id": "29bdaf4c",
   "metadata": {},
   "outputs": [
    {
     "name": "stdout",
     "output_type": "stream",
     "text": [
      "Hello Batman!\n",
      "Hello BATMAN!\n",
      "The value of 10 squared is 100!\n"
     ]
    }
   ],
   "source": [
    "name = \"Batman\"\n",
    "print(f\"Hello {name}!\")\n",
    "\n",
    "name = \"Batman\"\n",
    "print(f\"Hello {name.upper()}!\")\n",
    "\n",
    "x = 10\n",
    "print(f\"The value of {x} squared is {x**2}!\")"
   ]
  },
  {
   "cell_type": "markdown",
   "id": "ea0cc965",
   "metadata": {},
   "source": [
    "the f and the {} is called an f-string or string interpolation which can be used to format a string or number"
   ]
  },
  {
   "cell_type": "code",
   "execution_count": 26,
   "id": "ecff0c9c",
   "metadata": {},
   "outputs": [
    {
     "name": "stdout",
     "output_type": "stream",
     "text": [
      "Bruce Wayne is Batman.\n",
      "        Bruce Wayne is Batman.\n",
      "    Bruce Wayne is Batman.    \n",
      "Bruce Wayne is Batman.        \n",
      "The cube of pi to 6 decimal places is 31.006277\n",
      "The cube of pi to 6 decimal places is 3.100628e+01\n"
     ]
    }
   ],
   "source": [
    "text = 'Bruce Wayne is Batman.'\n",
    "print(f'{text}')\n",
    "\n",
    "print(f'{text:>30}')      # A block of 30 characters; aligned right\n",
    "\n",
    "print(f'{text:^30}')      # A block of 30 characters; aligned centre\n",
    "\n",
    "print(f'{text:<30}')      # A block of 30 characters; aligned left\n",
    "\n",
    "print(f'The cube of pi to 6 decimal places is {np.pi**3:.6f}')\n",
    "\n",
    "print(f'The cube of pi to 6 decimal places is {np.pi**3:.6e}')\n"
   ]
  },
  {
   "cell_type": "markdown",
   "id": "e6e087f4",
   "metadata": {},
   "source": [
    "### Python can be a prima-donna."
   ]
  },
  {
   "cell_type": "markdown",
   "id": "82efc358",
   "metadata": {},
   "source": [
    "more painful debugging and backbreaking things "
   ]
  },
  {
   "cell_type": "markdown",
   "id": "133f48e6",
   "metadata": {},
   "source": [
    "##  Best Practices for Scientific Computing"
   ]
  },
  {
   "cell_type": "markdown",
   "id": "77915b60",
   "metadata": {},
   "source": [
    "###  Some tips"
   ]
  },
  {
   "cell_type": "markdown",
   "id": "602fcab8",
   "metadata": {},
   "source": [
    "Write programmes for people, not computers; so that others and your future self can actually understand what you did \n",
    "\n",
    "Optimise software only after it works correctly; start simple!\n",
    "\n",
    "Document design and purpose, not mechanics \n",
    "\n",
    "Collborate; helpful because you get immediate feedback if your code is unreadable "
   ]
  },
  {
   "cell_type": "markdown",
   "id": "cdec1e0a",
   "metadata": {},
   "source": [
    "###  Getting help."
   ]
  },
  {
   "cell_type": "code",
   "execution_count": 27,
   "id": "4dd22e14",
   "metadata": {},
   "outputs": [
    {
     "name": "stdout",
     "output_type": "stream",
     "text": [
      "Help on built-in function print in module builtins:\n",
      "\n",
      "print(...)\n",
      "    print(value, ..., sep=' ', end='\\n', file=sys.stdout, flush=False)\n",
      "    \n",
      "    Prints the values to a stream, or to sys.stdout by default.\n",
      "    Optional keyword arguments:\n",
      "    file:  a file-like object (stream); defaults to the current sys.stdout.\n",
      "    sep:   string inserted between values, default a space.\n",
      "    end:   string appended after the last value, default a newline.\n",
      "    flush: whether to forcibly flush the stream.\n",
      "\n"
     ]
    }
   ],
   "source": [
    "help(print)\n"
   ]
  },
  {
   "cell_type": "markdown",
   "id": "f12ca5b2",
   "metadata": {},
   "source": [
    "## Exercise 1 :  Bias for some heroes"
   ]
  },
  {
   "cell_type": "code",
   "execution_count": 28,
   "id": "43fefee4",
   "metadata": {},
   "outputs": [],
   "source": [
    "def hello(name):\n",
    "    if name == \"Batman\":\n",
    "        print(\"Hello Batman!\")\n",
    "    else:\n",
    "        print(\"Hello World!\")\n",
    "\n",
    "\n",
    "\n",
    "\n"
   ]
  },
  {
   "cell_type": "markdown",
   "id": "57404615",
   "metadata": {},
   "source": [
    "## Exercise 2 :  Bias for some heroes, continues"
   ]
  },
  {
   "cell_type": "code",
   "execution_count": null,
   "id": "537b4f69",
   "metadata": {},
   "outputs": [],
   "source": [
    "\n",
    "\n",
    "\n",
    "# Your solution here\n",
    "\n",
    "\n"
   ]
  },
  {
   "cell_type": "markdown",
   "id": "5f71d5b4",
   "metadata": {},
   "source": [
    "## Exercise 3 :  Look for help to replace"
   ]
  },
  {
   "cell_type": "code",
   "execution_count": null,
   "id": "49e9bdea",
   "metadata": {},
   "outputs": [],
   "source": [
    "\n",
    "\n",
    "\n",
    "# Your solution here\n",
    "\n",
    "\n"
   ]
  }
 ],
 "metadata": {
  "kernelspec": {
   "display_name": "Python 3 (ipykernel)",
   "language": "python",
   "name": "python3"
  },
  "language_info": {
   "codemirror_mode": {
    "name": "ipython",
    "version": 3
   },
   "file_extension": ".py",
   "mimetype": "text/x-python",
   "name": "python",
   "nbconvert_exporter": "python",
   "pygments_lexer": "ipython3",
   "version": "3.9.13"
  },
  "toc": {
   "base_numbering": 1,
   "nav_menu": {},
   "number_sections": true,
   "sideBar": true,
   "skip_h1_title": false,
   "title_cell": "Table of Contents",
   "title_sidebar": "Contents",
   "toc_cell": false,
   "toc_position": {},
   "toc_section_display": true,
   "toc_window_display": false
  },
  "varInspector": {
   "cols": {
    "lenName": 16,
    "lenType": 16,
    "lenVar": 40
   },
   "kernels_config": {
    "python": {
     "delete_cmd_postfix": "",
     "delete_cmd_prefix": "del ",
     "library": "var_list.py",
     "varRefreshCmd": "print(var_dic_list())"
    },
    "r": {
     "delete_cmd_postfix": ") ",
     "delete_cmd_prefix": "rm(",
     "library": "var_list.r",
     "varRefreshCmd": "cat(var_dic_list()) "
    }
   },
   "types_to_exclude": [
    "module",
    "function",
    "builtin_function_or_method",
    "instance",
    "_Feature"
   ],
   "window_display": false
  },
  "vscode": {
   "interpreter": {
    "hash": "31f2aee4e71d21fbe5cf8b01ff0e069b9275f58929596ceb00d14d90e3e16cd6"
   }
  }
 },
 "nbformat": 4,
 "nbformat_minor": 5
}
