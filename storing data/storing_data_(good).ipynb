{
 "cells": [
  {
   "cell_type": "markdown",
   "id": "123456",
   "metadata": {},
   "source": [
    "<div style=\"text-align:left;font-size:2em\"><span style=\"font-weight:bolder;font-size:1.25em\">SP2273 | Learning Portfolio</span><br><br><span style=\"font-weight:bold;color:darkred\">Storing Data (Good)</span></div>"
   ]
  },
  {
   "cell_type": "markdown",
   "id": "ce1b566c",
   "metadata": {},
   "source": [
    "## Subsetting: Indexing and Slicing"
   ]
  },
  {
   "cell_type": "markdown",
   "id": "0c3c0a39",
   "metadata": {},
   "source": [
    "subsetting means to 'select' \n",
    "indexing refers to selecting one element \n",
    "slicing refers tos electing a range of elements "
   ]
  },
  {
   "cell_type": "markdown",
   "id": "7136c7a5",
   "metadata": {},
   "source": [
    "###  Indexing & Slicing 1D (Lists & Arrays)"
   ]
  },
  {
   "cell_type": "code",
   "execution_count": 4,
   "id": "3eaefe7e",
   "metadata": {},
   "outputs": [
    {
     "name": "stdout",
     "output_type": "stream",
     "text": [
      "a1\n",
      "j10\n",
      "['a1', 'b2', 'c3']\n",
      "['b2', 'c3', 'd4', 'e5', 'f6']\n",
      "['b2', 'd4', 'f6']\n",
      "['f6', 'g7', 'h8', 'i9', 'j10']\n",
      "['a1', 'b2', 'c3', 'd4', 'e5']\n",
      "['f6', 'e5', 'd4']\n",
      "['j10', 'i9', 'h8', 'g7', 'f6', 'e5', 'd4', 'c3', 'b2', 'a1']\n",
      "a1\n",
      "j10\n",
      "['a1' 'b2' 'c3']\n",
      "['b2' 'c3' 'd4' 'e5' 'f6']\n",
      "['b2' 'd4' 'f6']\n",
      "['f6' 'g7' 'h8' 'i9' 'j10']\n",
      "['a1' 'b2' 'c3' 'd4' 'e5']\n",
      "['f6' 'e5' 'd4']\n",
      "['j10' 'i9' 'h8' 'g7' 'f6' 'e5' 'd4' 'c3' 'b2' 'a1']\n"
     ]
    }
   ],
   "source": [
    "py_list=[\"a1\", \"b2\", \"c3\", \"d4\", \"e5\",\n",
    "         \"f6\", \"g7\", \"h8\", \"i9\", \"j10\"]\n",
    "np_array=np.array(py_list)\n",
    "\n",
    "x = py_list  \n",
    "\n",
    "print(x[0])\n",
    "print(x[-1])\n",
    "print(x[0:3])\n",
    "print(x[1:6])\n",
    "print(x[1:6:2]) \n",
    "print(x[5:])\n",
    "print(x[:5])\n",
    "print(x[5:2:-1])\n",
    "print(x[::-1])\n",
    "\n",
    "x = np_array\n",
    "\n",
    "print(x[0])\n",
    "print(x[-1])\n",
    "print(x[0:3])\n",
    "print(x[1:6])\n",
    "print(x[1:6:2]) \n",
    "print(x[5:])\n",
    "print(x[:5])\n",
    "print(x[5:2:-1])\n",
    "print(x[::-1])"
   ]
  },
  {
   "cell_type": "markdown",
   "id": "29040226",
   "metadata": {},
   "source": [
    "### Subsetting by masking (Arrays only)"
   ]
  },
  {
   "cell_type": "code",
   "execution_count": 14,
   "id": "de8a78d6",
   "metadata": {},
   "outputs": [
    {
     "name": "stdout",
     "output_type": "stream",
     "text": [
      "[False False False  True  True  True  True  True  True  True]\n",
      "[ 4  5  6  7  8  9 10]\n"
     ]
    }
   ],
   "source": [
    "np_array = np.array([1, 2, 3, 4, 5, 6, 7, 8, 9, 10])\n",
    "my_mask = np_array > 3\n",
    "print(my_mask)\n",
    "print(np_array[my_mask])\n",
    "\n",
    "\n"
   ]
  },
  {
   "cell_type": "markdown",
   "id": "7c2a0543",
   "metadata": {},
   "source": [
    "### Indexing & Slicing 2D Lists"
   ]
  },
  {
   "cell_type": "code",
   "execution_count": 17,
   "id": "68d9d4ef",
   "metadata": {},
   "outputs": [
    {
     "name": "stdout",
     "output_type": "stream",
     "text": [
      "[4, 'D']\n",
      "4\n",
      "[[1, 'A'], [2, 'B'], [3, 'C']]\n",
      "[1, 'A']\n"
     ]
    }
   ],
   "source": [
    "py_list_2d = [[1, \"A\"], [2, \"B\"], [3, \"C\"], [4, \"D\"],\n",
    "              [5, \"E\"], [6, \"F\"], [7, \"G\"], [8, \"H\"],\n",
    "              [9, \"I\"], [10, \"J\"]]\n",
    "\n",
    "print(py_list_2d[3])        # What is at position 4 (index 3)?\n",
    "\n",
    "print(py_list_2d[3][0])     # FIRST element at position 4 (index 3)\n",
    "\n",
    "print(py_list_2d[:3])\n",
    "\n",
    "print(py_list_2d[:3][0])"
   ]
  },
  {
   "cell_type": "markdown",
   "id": "c592211c",
   "metadata": {},
   "source": [
    "### Indexing & Slicing 2D Arrays"
   ]
  },
  {
   "cell_type": "code",
   "execution_count": 18,
   "id": "a6ca83fd",
   "metadata": {},
   "outputs": [
    {
     "name": "stdout",
     "output_type": "stream",
     "text": [
      "['4' 'D']\n",
      "4\n",
      "[['1' 'A']\n",
      " ['2' 'B']\n",
      " ['3' 'C']]\n",
      "['1' '2' '3']\n",
      "['4' '5' '6']\n",
      "['1' '2' '3' '4' '5' '6' '7' '8' '9' '10']\n"
     ]
    }
   ],
   "source": [
    "np_array_2d = np.array([[1, \"A\"], [2, \"B\"], [3, \"C\"], [4, \"D\"],\n",
    "                        [5, \"E\"], [6, \"F\"], [7, \"G\"], [8, \"H\"],\n",
    "                        [9, \"I\"], [10, \"J\"]])\n",
    "\n",
    "print(np_array_2d[3])       # What is at position 4 (index 3)?\n",
    "\n",
    "print(np_array_2d[3, 0])    # FIRST element at position 4 (index 3)\n",
    "\n",
    "print(np_array_2d[:3])\n",
    "\n",
    "print(np_array_2d[:3, 0])\n",
    "\n",
    "print(np_array_2d[3:6, 0])\n",
    "\n",
    "print(np_array_2d[:, 0])"
   ]
  },
  {
   "cell_type": "markdown",
   "id": "b6576670",
   "metadata": {},
   "source": [
    "### Growing lists"
   ]
  },
  {
   "cell_type": "code",
   "execution_count": 19,
   "id": "f843bf07",
   "metadata": {},
   "outputs": [
    {
     "name": "stdout",
     "output_type": "stream",
     "text": [
      "[1, 1, 1, 1, 1, 1, 1, 1, 1, 1]\n",
      "[1, 2, 3, 4]\n",
      "[1, 2, 3, 4]\n"
     ]
    }
   ],
   "source": [
    "x=[1]*10\n",
    "print(x)               \n",
    "               \n",
    "x=[1]\n",
    "x= x + [2]\n",
    "x= x + [3]\n",
    "x= x + [4]\n",
    "print(x)\n",
    "\n",
    "x=[1]\n",
    "x.append(2)\n",
    "x.append(3)\n",
    "x.append(4)\n",
    "print(x)\n"
   ]
  },
  {
   "cell_type": "markdown",
   "id": "1efc2268",
   "metadata": {},
   "source": [
    "## Some loose ends"
   ]
  },
  {
   "cell_type": "markdown",
   "id": "7d2cd6a2",
   "metadata": {},
   "source": [
    "### Tuples"
   ]
  },
  {
   "cell_type": "code",
   "execution_count": 20,
   "id": "4ec8c3da",
   "metadata": {},
   "outputs": [
    {
     "name": "stdout",
     "output_type": "stream",
     "text": [
      "1\n"
     ]
    }
   ],
   "source": [
    "a=(1,2,3)\n",
    "print(a[0])"
   ]
  },
  {
   "cell_type": "markdown",
   "id": "502be766",
   "metadata": {},
   "source": [
    "tuples are similar to lists except they use ( ) and cannot be changed after creation. "
   ]
  },
  {
   "cell_type": "markdown",
   "id": "6c92fb67",
   "metadata": {},
   "source": [
    "### Be VERY careful when copying"
   ]
  },
  {
   "cell_type": "code",
   "execution_count": 21,
   "id": "19c47c1c",
   "metadata": {},
   "outputs": [],
   "source": [
    "x=[1, 2, 3]\n",
    "y=x.copy()\n",
    "z=x.copy()\n"
   ]
  },
  {
   "cell_type": "markdown",
   "id": "23e758a5",
   "metadata": {},
   "source": [
    "## Exercise 1 :  Total recall?"
   ]
  },
  {
   "cell_type": "markdown",
   "id": "37e79d3f",
   "metadata": {},
   "source": [
    "Subsetting is to selct\n",
    "\n",
    "Indexing is to selct one element \n",
    "\n",
    "Slicing to select a range of elements \n",
    "\n",
    "Masking getting jupyter to give you a type of data \n"
   ]
  },
  {
   "cell_type": "markdown",
   "id": "e2360042",
   "metadata": {},
   "source": [
    "## Exercise 2 :  Show me the ‘odd’ letters"
   ]
  },
  {
   "cell_type": "code",
   "execution_count": 69,
   "id": "c31a2a3e",
   "metadata": {},
   "outputs": [
    {
     "name": "stdout",
     "output_type": "stream",
     "text": [
      "[ 1  2  5  6 10]\n",
      "[ True  True False False  True  True False False False  True]\n"
     ]
    },
    {
     "data": {
      "text/plain": [
       "array(['A', 'C', 'E', 'G', 'I'], dtype='<U21')"
      ]
     },
     "execution_count": 69,
     "metadata": {},
     "output_type": "execute_result"
    }
   ],
   "source": [
    "np_array_2d = np.array([[1, \"A\"], [3, \"C\"], [2, \"B\"], [4, \"D\"],\n",
    "                        [5, \"E\"], [7, \"G\"], [6, \"F\"], [8, \"H\"],\n",
    "                        [10, \"J\"], [9, \"I\"]])\n",
    "\n",
    "my_mask = np_array_2d[:10,0].astype(int)%2 == 1\n",
    "\n",
    "print(np_array[my_mask])\n",
    "\n",
    "print(my_mask)\n",
    "\n",
    "np_array_2d[my_mask,1]"
   ]
  }
 ],
 "metadata": {
  "kernelspec": {
   "display_name": "Python 3 (ipykernel)",
   "language": "python",
   "name": "python3"
  },
  "language_info": {
   "codemirror_mode": {
    "name": "ipython",
    "version": 3
   },
   "file_extension": ".py",
   "mimetype": "text/x-python",
   "name": "python",
   "nbconvert_exporter": "python",
   "pygments_lexer": "ipython3",
   "version": "3.9.13"
  },
  "toc": {
   "base_numbering": 1,
   "nav_menu": {},
   "number_sections": true,
   "sideBar": true,
   "skip_h1_title": false,
   "title_cell": "Table of Contents",
   "title_sidebar": "Contents",
   "toc_cell": false,
   "toc_position": {},
   "toc_section_display": true,
   "toc_window_display": false
  },
  "varInspector": {
   "cols": {
    "lenName": 16,
    "lenType": 16,
    "lenVar": 40
   },
   "kernels_config": {
    "python": {
     "delete_cmd_postfix": "",
     "delete_cmd_prefix": "del ",
     "library": "var_list.py",
     "varRefreshCmd": "print(var_dic_list())"
    },
    "r": {
     "delete_cmd_postfix": ") ",
     "delete_cmd_prefix": "rm(",
     "library": "var_list.r",
     "varRefreshCmd": "cat(var_dic_list()) "
    }
   },
   "types_to_exclude": [
    "module",
    "function",
    "builtin_function_or_method",
    "instance",
    "_Feature"
   ],
   "window_display": false
  },
  "vscode": {
   "interpreter": {
    "hash": "31f2aee4e71d21fbe5cf8b01ff0e069b9275f58929596ceb00d14d90e3e16cd6"
   }
  }
 },
 "nbformat": 4,
 "nbformat_minor": 5
}
